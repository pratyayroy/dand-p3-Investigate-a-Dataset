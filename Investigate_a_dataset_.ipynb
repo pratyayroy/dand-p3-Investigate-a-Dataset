{
 "cells": [
  {
   "cell_type": "markdown",
   "metadata": {},
   "source": [
    "# <center> Investigate a Dataset | Titanic Data</center></h1>\n",
    "<hr>"
   ]
  },
  {
   "cell_type": "markdown",
   "metadata": {},
   "source": [
    "# 1. Introduction to the Project"
   ]
  },
  {
   "cell_type": "markdown",
   "metadata": {},
   "source": [
    "RMS Titanic was a British passenger liner that sank in the North Atlantic Ocean in the early morning of 15 April 1912, after colliding with an iceberg during her maiden voyage from Southampton to New York City. Of the estimated 2,224 passengers and crew aboard, more than 1,500 died, making it one of the deadliest commercial peacetime maritime disasters in modern history.\n",
    "\n",
    "I am given the dataset that contains demographics and passenger information for 891 of the 2224 passengers and crew on board. My objective is to discover useful information, suggesting conclusions, and supporting decision-making."
   ]
  },
  {
   "cell_type": "markdown",
   "metadata": {},
   "source": [
    "# 2. Introduction to the Dataset"
   ]
  },
  {
   "cell_type": "markdown",
   "metadata": {},
   "source": [
    "Let's have a quick look to the Data Dictionary.\n",
    "\n",
    "|Variable |Definition|\tKey                                                     |\n",
    "|---------|---------------------------------------------------------------------|\n",
    "|survival |\tSurvival|\t0 = No, 1 = Yes                                         |\n",
    "|pclass\t |Ticket class\t|1 = 1st, 2 = 2nd, 3 = 3rd\n",
    "|sex\t |Sex | male, female\n",
    "|Age\t     |Age in years\t| numbers\n",
    "|sibsp\t |# of siblings / spouses| numbers\n",
    "|parch\t |# of parents / children| numbers\n",
    "|ticket\t |Ticket number\t| character\n",
    "|fare\t |Passenger fare\t| number\n",
    "|cabin\t |Cabin number\t| character\n",
    "|embarked |\tPort of Embarkation|\tC = Cherbourg, Q = Queenstown, S = Southampton\n",
    "\n",
    "A small note of the variables:\n",
    "\n",
    "<b>pclass</b>: A proxy for socio-economic status (SES)\n",
    "1st = Upper\n",
    "2nd = Middle\n",
    "3rd = Lower\n",
    "\n",
    "<b>age</b>: Age is fractional if less than 1. If the age is estimated, is it in the form of xx.5\n",
    "\n",
    "<b>sibsp</b>: The dataset defines family relations in this way...\n",
    "Sibling = brother, sister, stepbrother, stepsister\n",
    "Spouse = husband, wife (mistresses and fiancés were ignored)\n",
    "\n",
    "<b>parch</b>: The dataset defines family relations in this way...\n",
    "Parent = mother, father\n",
    "Child = daughter, son, stepdaughter, stepson\n",
    "\n",
    "Some children travelled only with a nanny, therefore parch = 0 for them.\n",
    "  "
   ]
  },
  {
   "cell_type": "markdown",
   "metadata": {},
   "source": [
    "# 3. Data Analysis"
   ]
  },
  {
   "cell_type": "markdown",
   "metadata": {},
   "source": [
    "So, now I'll analyze the data to find some interesting things. The phases will include:\n",
    "\n",
    "<ol>\n",
    "    <li>Questions, I want to answer!</li>\n",
    "    <li>Data Wrangling</li>\n",
    "        <ol type=\"a\">\n",
    "            <li>Data Acquisation</li>\n",
    "            <li>Data Cleaning</li>\n",
    "        </ol>\n",
    "        <br>\n",
    "    <li>Exploration</li>\n",
    "    <li>Conclusion</li>\n",
    "</ol>"
   ]
  },
  {
   "cell_type": "markdown",
   "metadata": {},
   "source": [
    "## 3.1 Questions, I want to answer!"
   ]
  },
  {
   "cell_type": "markdown",
   "metadata": {
    "collapsed": true
   },
   "source": [
    "There's a well know truth that Titanic did not have enough number of lifeboats present. Many people died due to die due to this fact alone. So, there's a kind of <b>preference</b> that must be observed during saving of life in this scenario. Can we find it with the survival stats? Here's a step by step approach I did to find the answer.\n",
    "\n",
    "************ FILL IN BITCH *************"
   ]
  },
  {
   "cell_type": "markdown",
   "metadata": {},
   "source": [
    "## 3.2 Data Wrangling\n",
    "## 3.2.1 Data Acquisation"
   ]
  },
  {
   "cell_type": "code",
   "execution_count": 1,
   "metadata": {},
   "outputs": [
    {
     "name": "stdout",
     "output_type": "stream",
     "text": [
      "   PassengerId  Survived  Pclass  \\\n",
      "0            1         0       3   \n",
      "1            2         1       1   \n",
      "2            3         1       3   \n",
      "3            4         1       1   \n",
      "4            5         0       3   \n",
      "\n",
      "                                                Name     Sex   Age  SibSp  \\\n",
      "0                            Braund, Mr. Owen Harris    male  22.0      1   \n",
      "1  Cumings, Mrs. John Bradley (Florence Briggs Th...  female  38.0      1   \n",
      "2                             Heikkinen, Miss. Laina  female  26.0      0   \n",
      "3       Futrelle, Mrs. Jacques Heath (Lily May Peel)  female  35.0      1   \n",
      "4                           Allen, Mr. William Henry    male  35.0      0   \n",
      "\n",
      "   Parch            Ticket     Fare Cabin Embarked  \n",
      "0      0         A/5 21171   7.2500   NaN        S  \n",
      "1      0          PC 17599  71.2833   C85        C  \n",
      "2      0  STON/O2. 3101282   7.9250   NaN        S  \n",
      "3      0            113803  53.1000  C123        S  \n",
      "4      0            373450   8.0500   NaN        S  \n",
      "       PassengerId    Survived      Pclass         Age       SibSp  \\\n",
      "count   891.000000  891.000000  891.000000  714.000000  891.000000   \n",
      "mean    446.000000    0.383838    2.308642   29.699118    0.523008   \n",
      "std     257.353842    0.486592    0.836071   14.526497    1.102743   \n",
      "min       1.000000    0.000000    1.000000    0.420000    0.000000   \n",
      "25%     223.500000    0.000000    2.000000   20.125000    0.000000   \n",
      "50%     446.000000    0.000000    3.000000   28.000000    0.000000   \n",
      "75%     668.500000    1.000000    3.000000   38.000000    1.000000   \n",
      "max     891.000000    1.000000    3.000000   80.000000    8.000000   \n",
      "\n",
      "            Parch        Fare  \n",
      "count  891.000000  891.000000  \n",
      "mean     0.381594   32.204208  \n",
      "std      0.806057   49.693429  \n",
      "min      0.000000    0.000000  \n",
      "25%      0.000000    7.910400  \n",
      "50%      0.000000   14.454200  \n",
      "75%      0.000000   31.000000  \n",
      "max      6.000000  512.329200  \n"
     ]
    }
   ],
   "source": [
    "# reading the dataset and using basic pandas to see and analyze.\n",
    "import pandas as pd\n",
    "from matplotlib import pyplot as plt\n",
    "import seaborn as sns\n",
    "%matplotlib inline\n",
    "\n",
    "titanic_df = pd.read_csv(\"titanic-data.csv\")\n",
    "print titanic_df.head()\n",
    "print titanic_df.describe()"
   ]
  },
  {
   "cell_type": "markdown",
   "metadata": {},
   "source": [
    "### Observations\n",
    "\n",
    "Some basic findings worth noting:\n",
    "\n",
    "1. The survival rate of any passenger is 38%.\n",
    "2. Most people travelled is from the type II (middle) Socio-economic Status.\n",
    "3. The average age is 29 years.\n",
    "4. There is about 50% chance of having sibling/spouse/husband relationship.\n",
    "5. There is about 38% chance of having parent/child relationship.\n",
    "6. The average fare is 32.\n",
    "\n",
    "Some <b>errors</b> in the dataset are as follows:\n",
    "1. Age has 714 entries. That means there are some empty entries.\n",
    "2. Minimum Fare is 0. Is that possible in an expensive ship like Titanic?"
   ]
  },
  {
   "cell_type": "markdown",
   "metadata": {},
   "source": [
    "## 3.2.2 Data Cleaning"
   ]
  },
  {
   "cell_type": "markdown",
   "metadata": {},
   "source": [
    "Now I am curoious to find which other non-numeric columns have NAN values in them."
   ]
  },
  {
   "cell_type": "code",
   "execution_count": 2,
   "metadata": {},
   "outputs": [
    {
     "name": "stdout",
     "output_type": "stream",
     "text": [
      "0\n",
      "0\n",
      "0\n",
      "687\n",
      "2\n"
     ]
    }
   ],
   "source": [
    "# finding NULL content in the non-numeric columns\n",
    "print titanic_df[\"Name\"][titanic_df[\"Name\"].isnull()].size\n",
    "print titanic_df[\"Sex\"][titanic_df[\"Sex\"].isnull()].size\n",
    "print titanic_df[\"Ticket\"][titanic_df[\"Ticket\"].isnull()].size\n",
    "print titanic_df[\"Cabin\"][titanic_df[\"Cabin\"].isnull()].size\n",
    "print titanic_df[\"Embarked\"][titanic_df[\"Embarked\"].isnull()].size"
   ]
  },
  {
   "cell_type": "markdown",
   "metadata": {
    "collapsed": true
   },
   "source": [
    "Now since we have found three columns with NAN, we have to decide what we can do with them. We have 2 options - <b>impute</b> them OR <b>delete</b> them. But, <b>deleting</b> will result in a <b>total loss</b> of data, whereas <b>imputing</b> will result in a <b>biasing</b> of data. \n",
    "\n",
    "Now we came upon this percentages,\n",
    "1. Column[\"Age\"] has 177 NAN out of 891 entries = 19.8%\n",
    "2. Column[\"Cabin\"] has 687 NAN out of 891 entries =  77.1%\n",
    "3. Column[\"Embarked\"] has 2 NAN out of 891 entries = 0.2%\n",
    "\n",
    "Now what we can do here in this case is impute the missing values. But we have not yet covered the process of doing so. So, we would rather drop the cabin have no significance.\n",
    "\n",
    "And I will just try to find the co-relations among the other variables without imputing as pandas simply don't take into account the missing values.\n",
    "\n",
    "Here are some columns and actions which we think should be applied on them.\n",
    "\n",
    "1. <b>PassengerId</b> → seems <b>irrelevant</b>. So we consider <b>dropping</b> it.\n",
    "2. <b>Name</b> → We would rather try to <b>extract the salutation</b> and find some co-relations of survival with it. Then we can consider <b>dropping</b> it.\n",
    "1. <b>Age</b> → We keep the NaN values as it is, because the exact process and model for imputation is unknown.\n",
    "3. <b>SibSp & Parch</b> → We must <b>create a new column \"group\"</b> which holds how many family members the passenger boarded with.\n",
    "4. <b>Cabin</b> → We already discussed this column is not much useful with so many <b>missing values</b>. We will <b>drop</b> it. \n",
    "1. <b>Embarked</b> → Keep it as it is. "
   ]
  },
  {
   "attachments": {},
   "cell_type": "markdown",
   "metadata": {},
   "source": [
    "Creating and filling the columns called \"Salutation\" and \"Groups\".\n",
    "\n",
    "We can observe from the above description that a name like [Braund, Mr. Owen Harris] → [Surname, Salutation, First name, Second Name], which implies the second word is salutation."
   ]
  },
  {
   "cell_type": "code",
   "execution_count": 4,
   "metadata": {
    "scrolled": true
   },
   "outputs": [],
   "source": [
    "# filling the new column named \"Salutation\" with the second part of the name\n",
    "titanic_df[\"Salutation\"] = titanic_df[\"Name\"].str.split(\" \").str[1]\n",
    "titanic_df[\"Group\"] = titanic_df[\"SibSp\"] + titanic_df[\"Parch\"]"
   ]
  },
  {
   "cell_type": "markdown",
   "metadata": {},
   "source": [
    "We can now see, how many \"Salutation\"s we have."
   ]
  },
  {
   "cell_type": "code",
   "execution_count": 5,
   "metadata": {
    "scrolled": false
   },
   "outputs": [
    {
     "data": {
      "text/html": [
       "<div>\n",
       "<style>\n",
       "    .dataframe thead tr:only-child th {\n",
       "        text-align: right;\n",
       "    }\n",
       "\n",
       "    .dataframe thead th {\n",
       "        text-align: left;\n",
       "    }\n",
       "\n",
       "    .dataframe tbody tr th {\n",
       "        vertical-align: top;\n",
       "    }\n",
       "</style>\n",
       "<table border=\"1\" class=\"dataframe\">\n",
       "  <thead>\n",
       "    <tr style=\"text-align: right;\">\n",
       "      <th></th>\n",
       "      <th>PassengerId</th>\n",
       "      <th>Survived</th>\n",
       "      <th>Pclass</th>\n",
       "      <th>Name</th>\n",
       "      <th>Sex</th>\n",
       "      <th>Age</th>\n",
       "      <th>SibSp</th>\n",
       "      <th>Parch</th>\n",
       "      <th>Ticket</th>\n",
       "      <th>Fare</th>\n",
       "      <th>Cabin</th>\n",
       "      <th>Embarked</th>\n",
       "      <th>Group</th>\n",
       "    </tr>\n",
       "    <tr>\n",
       "      <th>Salutation</th>\n",
       "      <th></th>\n",
       "      <th></th>\n",
       "      <th></th>\n",
       "      <th></th>\n",
       "      <th></th>\n",
       "      <th></th>\n",
       "      <th></th>\n",
       "      <th></th>\n",
       "      <th></th>\n",
       "      <th></th>\n",
       "      <th></th>\n",
       "      <th></th>\n",
       "      <th></th>\n",
       "    </tr>\n",
       "  </thead>\n",
       "  <tbody>\n",
       "    <tr>\n",
       "      <th>Billiard,</th>\n",
       "      <td>1</td>\n",
       "      <td>1</td>\n",
       "      <td>1</td>\n",
       "      <td>1</td>\n",
       "      <td>1</td>\n",
       "      <td>1</td>\n",
       "      <td>1</td>\n",
       "      <td>1</td>\n",
       "      <td>1</td>\n",
       "      <td>1</td>\n",
       "      <td>0</td>\n",
       "      <td>1</td>\n",
       "      <td>1</td>\n",
       "    </tr>\n",
       "    <tr>\n",
       "      <th>Capt.</th>\n",
       "      <td>1</td>\n",
       "      <td>1</td>\n",
       "      <td>1</td>\n",
       "      <td>1</td>\n",
       "      <td>1</td>\n",
       "      <td>1</td>\n",
       "      <td>1</td>\n",
       "      <td>1</td>\n",
       "      <td>1</td>\n",
       "      <td>1</td>\n",
       "      <td>1</td>\n",
       "      <td>1</td>\n",
       "      <td>1</td>\n",
       "    </tr>\n",
       "    <tr>\n",
       "      <th>Carlo,</th>\n",
       "      <td>1</td>\n",
       "      <td>1</td>\n",
       "      <td>1</td>\n",
       "      <td>1</td>\n",
       "      <td>1</td>\n",
       "      <td>1</td>\n",
       "      <td>1</td>\n",
       "      <td>1</td>\n",
       "      <td>1</td>\n",
       "      <td>1</td>\n",
       "      <td>0</td>\n",
       "      <td>1</td>\n",
       "      <td>1</td>\n",
       "    </tr>\n",
       "    <tr>\n",
       "      <th>Col.</th>\n",
       "      <td>2</td>\n",
       "      <td>2</td>\n",
       "      <td>2</td>\n",
       "      <td>2</td>\n",
       "      <td>2</td>\n",
       "      <td>2</td>\n",
       "      <td>2</td>\n",
       "      <td>2</td>\n",
       "      <td>2</td>\n",
       "      <td>2</td>\n",
       "      <td>1</td>\n",
       "      <td>2</td>\n",
       "      <td>2</td>\n",
       "    </tr>\n",
       "    <tr>\n",
       "      <th>Cruyssen,</th>\n",
       "      <td>1</td>\n",
       "      <td>1</td>\n",
       "      <td>1</td>\n",
       "      <td>1</td>\n",
       "      <td>1</td>\n",
       "      <td>1</td>\n",
       "      <td>1</td>\n",
       "      <td>1</td>\n",
       "      <td>1</td>\n",
       "      <td>1</td>\n",
       "      <td>0</td>\n",
       "      <td>1</td>\n",
       "      <td>1</td>\n",
       "    </tr>\n",
       "    <tr>\n",
       "      <th>Don.</th>\n",
       "      <td>1</td>\n",
       "      <td>1</td>\n",
       "      <td>1</td>\n",
       "      <td>1</td>\n",
       "      <td>1</td>\n",
       "      <td>1</td>\n",
       "      <td>1</td>\n",
       "      <td>1</td>\n",
       "      <td>1</td>\n",
       "      <td>1</td>\n",
       "      <td>0</td>\n",
       "      <td>1</td>\n",
       "      <td>1</td>\n",
       "    </tr>\n",
       "    <tr>\n",
       "      <th>Dr.</th>\n",
       "      <td>7</td>\n",
       "      <td>7</td>\n",
       "      <td>7</td>\n",
       "      <td>7</td>\n",
       "      <td>7</td>\n",
       "      <td>6</td>\n",
       "      <td>7</td>\n",
       "      <td>7</td>\n",
       "      <td>7</td>\n",
       "      <td>7</td>\n",
       "      <td>3</td>\n",
       "      <td>7</td>\n",
       "      <td>7</td>\n",
       "    </tr>\n",
       "    <tr>\n",
       "      <th>Gordon,</th>\n",
       "      <td>2</td>\n",
       "      <td>2</td>\n",
       "      <td>2</td>\n",
       "      <td>2</td>\n",
       "      <td>2</td>\n",
       "      <td>2</td>\n",
       "      <td>2</td>\n",
       "      <td>2</td>\n",
       "      <td>2</td>\n",
       "      <td>2</td>\n",
       "      <td>2</td>\n",
       "      <td>2</td>\n",
       "      <td>2</td>\n",
       "    </tr>\n",
       "    <tr>\n",
       "      <th>Impe,</th>\n",
       "      <td>3</td>\n",
       "      <td>3</td>\n",
       "      <td>3</td>\n",
       "      <td>3</td>\n",
       "      <td>3</td>\n",
       "      <td>3</td>\n",
       "      <td>3</td>\n",
       "      <td>3</td>\n",
       "      <td>3</td>\n",
       "      <td>3</td>\n",
       "      <td>0</td>\n",
       "      <td>3</td>\n",
       "      <td>3</td>\n",
       "    </tr>\n",
       "    <tr>\n",
       "      <th>Jonkheer.</th>\n",
       "      <td>1</td>\n",
       "      <td>1</td>\n",
       "      <td>1</td>\n",
       "      <td>1</td>\n",
       "      <td>1</td>\n",
       "      <td>1</td>\n",
       "      <td>1</td>\n",
       "      <td>1</td>\n",
       "      <td>1</td>\n",
       "      <td>1</td>\n",
       "      <td>0</td>\n",
       "      <td>1</td>\n",
       "      <td>1</td>\n",
       "    </tr>\n",
       "    <tr>\n",
       "      <th>Major.</th>\n",
       "      <td>2</td>\n",
       "      <td>2</td>\n",
       "      <td>2</td>\n",
       "      <td>2</td>\n",
       "      <td>2</td>\n",
       "      <td>2</td>\n",
       "      <td>2</td>\n",
       "      <td>2</td>\n",
       "      <td>2</td>\n",
       "      <td>2</td>\n",
       "      <td>2</td>\n",
       "      <td>2</td>\n",
       "      <td>2</td>\n",
       "    </tr>\n",
       "    <tr>\n",
       "      <th>Master.</th>\n",
       "      <td>40</td>\n",
       "      <td>40</td>\n",
       "      <td>40</td>\n",
       "      <td>40</td>\n",
       "      <td>40</td>\n",
       "      <td>36</td>\n",
       "      <td>40</td>\n",
       "      <td>40</td>\n",
       "      <td>40</td>\n",
       "      <td>40</td>\n",
       "      <td>7</td>\n",
       "      <td>40</td>\n",
       "      <td>40</td>\n",
       "    </tr>\n",
       "    <tr>\n",
       "      <th>Melkebeke,</th>\n",
       "      <td>1</td>\n",
       "      <td>1</td>\n",
       "      <td>1</td>\n",
       "      <td>1</td>\n",
       "      <td>1</td>\n",
       "      <td>0</td>\n",
       "      <td>1</td>\n",
       "      <td>1</td>\n",
       "      <td>1</td>\n",
       "      <td>1</td>\n",
       "      <td>0</td>\n",
       "      <td>1</td>\n",
       "      <td>1</td>\n",
       "    </tr>\n",
       "    <tr>\n",
       "      <th>Messemaeker,</th>\n",
       "      <td>1</td>\n",
       "      <td>1</td>\n",
       "      <td>1</td>\n",
       "      <td>1</td>\n",
       "      <td>1</td>\n",
       "      <td>1</td>\n",
       "      <td>1</td>\n",
       "      <td>1</td>\n",
       "      <td>1</td>\n",
       "      <td>1</td>\n",
       "      <td>0</td>\n",
       "      <td>1</td>\n",
       "      <td>1</td>\n",
       "    </tr>\n",
       "    <tr>\n",
       "      <th>Miss.</th>\n",
       "      <td>179</td>\n",
       "      <td>179</td>\n",
       "      <td>179</td>\n",
       "      <td>179</td>\n",
       "      <td>179</td>\n",
       "      <td>143</td>\n",
       "      <td>179</td>\n",
       "      <td>179</td>\n",
       "      <td>179</td>\n",
       "      <td>179</td>\n",
       "      <td>47</td>\n",
       "      <td>178</td>\n",
       "      <td>179</td>\n",
       "    </tr>\n",
       "    <tr>\n",
       "      <th>Mlle.</th>\n",
       "      <td>2</td>\n",
       "      <td>2</td>\n",
       "      <td>2</td>\n",
       "      <td>2</td>\n",
       "      <td>2</td>\n",
       "      <td>2</td>\n",
       "      <td>2</td>\n",
       "      <td>2</td>\n",
       "      <td>2</td>\n",
       "      <td>2</td>\n",
       "      <td>2</td>\n",
       "      <td>2</td>\n",
       "      <td>2</td>\n",
       "    </tr>\n",
       "    <tr>\n",
       "      <th>Mme.</th>\n",
       "      <td>1</td>\n",
       "      <td>1</td>\n",
       "      <td>1</td>\n",
       "      <td>1</td>\n",
       "      <td>1</td>\n",
       "      <td>1</td>\n",
       "      <td>1</td>\n",
       "      <td>1</td>\n",
       "      <td>1</td>\n",
       "      <td>1</td>\n",
       "      <td>1</td>\n",
       "      <td>1</td>\n",
       "      <td>1</td>\n",
       "    </tr>\n",
       "    <tr>\n",
       "      <th>Mr.</th>\n",
       "      <td>502</td>\n",
       "      <td>502</td>\n",
       "      <td>502</td>\n",
       "      <td>502</td>\n",
       "      <td>502</td>\n",
       "      <td>385</td>\n",
       "      <td>502</td>\n",
       "      <td>502</td>\n",
       "      <td>502</td>\n",
       "      <td>502</td>\n",
       "      <td>91</td>\n",
       "      <td>502</td>\n",
       "      <td>502</td>\n",
       "    </tr>\n",
       "    <tr>\n",
       "      <th>Mrs.</th>\n",
       "      <td>121</td>\n",
       "      <td>121</td>\n",
       "      <td>121</td>\n",
       "      <td>121</td>\n",
       "      <td>121</td>\n",
       "      <td>104</td>\n",
       "      <td>121</td>\n",
       "      <td>121</td>\n",
       "      <td>121</td>\n",
       "      <td>121</td>\n",
       "      <td>43</td>\n",
       "      <td>120</td>\n",
       "      <td>121</td>\n",
       "    </tr>\n",
       "    <tr>\n",
       "      <th>Ms.</th>\n",
       "      <td>1</td>\n",
       "      <td>1</td>\n",
       "      <td>1</td>\n",
       "      <td>1</td>\n",
       "      <td>1</td>\n",
       "      <td>1</td>\n",
       "      <td>1</td>\n",
       "      <td>1</td>\n",
       "      <td>1</td>\n",
       "      <td>1</td>\n",
       "      <td>0</td>\n",
       "      <td>1</td>\n",
       "      <td>1</td>\n",
       "    </tr>\n",
       "    <tr>\n",
       "      <th>Mulder,</th>\n",
       "      <td>1</td>\n",
       "      <td>1</td>\n",
       "      <td>1</td>\n",
       "      <td>1</td>\n",
       "      <td>1</td>\n",
       "      <td>1</td>\n",
       "      <td>1</td>\n",
       "      <td>1</td>\n",
       "      <td>1</td>\n",
       "      <td>1</td>\n",
       "      <td>0</td>\n",
       "      <td>1</td>\n",
       "      <td>1</td>\n",
       "    </tr>\n",
       "    <tr>\n",
       "      <th>Pelsmaeker,</th>\n",
       "      <td>1</td>\n",
       "      <td>1</td>\n",
       "      <td>1</td>\n",
       "      <td>1</td>\n",
       "      <td>1</td>\n",
       "      <td>1</td>\n",
       "      <td>1</td>\n",
       "      <td>1</td>\n",
       "      <td>1</td>\n",
       "      <td>1</td>\n",
       "      <td>0</td>\n",
       "      <td>1</td>\n",
       "      <td>1</td>\n",
       "    </tr>\n",
       "    <tr>\n",
       "      <th>Planke,</th>\n",
       "      <td>3</td>\n",
       "      <td>3</td>\n",
       "      <td>3</td>\n",
       "      <td>3</td>\n",
       "      <td>3</td>\n",
       "      <td>3</td>\n",
       "      <td>3</td>\n",
       "      <td>3</td>\n",
       "      <td>3</td>\n",
       "      <td>3</td>\n",
       "      <td>0</td>\n",
       "      <td>3</td>\n",
       "      <td>3</td>\n",
       "    </tr>\n",
       "    <tr>\n",
       "      <th>Rev.</th>\n",
       "      <td>6</td>\n",
       "      <td>6</td>\n",
       "      <td>6</td>\n",
       "      <td>6</td>\n",
       "      <td>6</td>\n",
       "      <td>6</td>\n",
       "      <td>6</td>\n",
       "      <td>6</td>\n",
       "      <td>6</td>\n",
       "      <td>6</td>\n",
       "      <td>0</td>\n",
       "      <td>6</td>\n",
       "      <td>6</td>\n",
       "    </tr>\n",
       "    <tr>\n",
       "      <th>Shawah,</th>\n",
       "      <td>1</td>\n",
       "      <td>1</td>\n",
       "      <td>1</td>\n",
       "      <td>1</td>\n",
       "      <td>1</td>\n",
       "      <td>1</td>\n",
       "      <td>1</td>\n",
       "      <td>1</td>\n",
       "      <td>1</td>\n",
       "      <td>1</td>\n",
       "      <td>0</td>\n",
       "      <td>1</td>\n",
       "      <td>1</td>\n",
       "    </tr>\n",
       "    <tr>\n",
       "      <th>Steen,</th>\n",
       "      <td>1</td>\n",
       "      <td>1</td>\n",
       "      <td>1</td>\n",
       "      <td>1</td>\n",
       "      <td>1</td>\n",
       "      <td>1</td>\n",
       "      <td>1</td>\n",
       "      <td>1</td>\n",
       "      <td>1</td>\n",
       "      <td>1</td>\n",
       "      <td>0</td>\n",
       "      <td>1</td>\n",
       "      <td>1</td>\n",
       "    </tr>\n",
       "    <tr>\n",
       "      <th>Velde,</th>\n",
       "      <td>1</td>\n",
       "      <td>1</td>\n",
       "      <td>1</td>\n",
       "      <td>1</td>\n",
       "      <td>1</td>\n",
       "      <td>1</td>\n",
       "      <td>1</td>\n",
       "      <td>1</td>\n",
       "      <td>1</td>\n",
       "      <td>1</td>\n",
       "      <td>0</td>\n",
       "      <td>1</td>\n",
       "      <td>1</td>\n",
       "    </tr>\n",
       "    <tr>\n",
       "      <th>Walle,</th>\n",
       "      <td>1</td>\n",
       "      <td>1</td>\n",
       "      <td>1</td>\n",
       "      <td>1</td>\n",
       "      <td>1</td>\n",
       "      <td>1</td>\n",
       "      <td>1</td>\n",
       "      <td>1</td>\n",
       "      <td>1</td>\n",
       "      <td>1</td>\n",
       "      <td>0</td>\n",
       "      <td>1</td>\n",
       "      <td>1</td>\n",
       "    </tr>\n",
       "    <tr>\n",
       "      <th>der</th>\n",
       "      <td>1</td>\n",
       "      <td>1</td>\n",
       "      <td>1</td>\n",
       "      <td>1</td>\n",
       "      <td>1</td>\n",
       "      <td>1</td>\n",
       "      <td>1</td>\n",
       "      <td>1</td>\n",
       "      <td>1</td>\n",
       "      <td>1</td>\n",
       "      <td>1</td>\n",
       "      <td>1</td>\n",
       "      <td>1</td>\n",
       "    </tr>\n",
       "    <tr>\n",
       "      <th>the</th>\n",
       "      <td>1</td>\n",
       "      <td>1</td>\n",
       "      <td>1</td>\n",
       "      <td>1</td>\n",
       "      <td>1</td>\n",
       "      <td>1</td>\n",
       "      <td>1</td>\n",
       "      <td>1</td>\n",
       "      <td>1</td>\n",
       "      <td>1</td>\n",
       "      <td>1</td>\n",
       "      <td>1</td>\n",
       "      <td>1</td>\n",
       "    </tr>\n",
       "    <tr>\n",
       "      <th>y</th>\n",
       "      <td>4</td>\n",
       "      <td>4</td>\n",
       "      <td>4</td>\n",
       "      <td>4</td>\n",
       "      <td>4</td>\n",
       "      <td>3</td>\n",
       "      <td>4</td>\n",
       "      <td>4</td>\n",
       "      <td>4</td>\n",
       "      <td>4</td>\n",
       "      <td>2</td>\n",
       "      <td>4</td>\n",
       "      <td>4</td>\n",
       "    </tr>\n",
       "  </tbody>\n",
       "</table>\n",
       "</div>"
      ],
      "text/plain": [
       "              PassengerId  Survived  Pclass  Name  Sex  Age  SibSp  Parch  \\\n",
       "Salutation                                                                  \n",
       "Billiard,               1         1       1     1    1    1      1      1   \n",
       "Capt.                   1         1       1     1    1    1      1      1   \n",
       "Carlo,                  1         1       1     1    1    1      1      1   \n",
       "Col.                    2         2       2     2    2    2      2      2   \n",
       "Cruyssen,               1         1       1     1    1    1      1      1   \n",
       "Don.                    1         1       1     1    1    1      1      1   \n",
       "Dr.                     7         7       7     7    7    6      7      7   \n",
       "Gordon,                 2         2       2     2    2    2      2      2   \n",
       "Impe,                   3         3       3     3    3    3      3      3   \n",
       "Jonkheer.               1         1       1     1    1    1      1      1   \n",
       "Major.                  2         2       2     2    2    2      2      2   \n",
       "Master.                40        40      40    40   40   36     40     40   \n",
       "Melkebeke,              1         1       1     1    1    0      1      1   \n",
       "Messemaeker,            1         1       1     1    1    1      1      1   \n",
       "Miss.                 179       179     179   179  179  143    179    179   \n",
       "Mlle.                   2         2       2     2    2    2      2      2   \n",
       "Mme.                    1         1       1     1    1    1      1      1   \n",
       "Mr.                   502       502     502   502  502  385    502    502   \n",
       "Mrs.                  121       121     121   121  121  104    121    121   \n",
       "Ms.                     1         1       1     1    1    1      1      1   \n",
       "Mulder,                 1         1       1     1    1    1      1      1   \n",
       "Pelsmaeker,             1         1       1     1    1    1      1      1   \n",
       "Planke,                 3         3       3     3    3    3      3      3   \n",
       "Rev.                    6         6       6     6    6    6      6      6   \n",
       "Shawah,                 1         1       1     1    1    1      1      1   \n",
       "Steen,                  1         1       1     1    1    1      1      1   \n",
       "Velde,                  1         1       1     1    1    1      1      1   \n",
       "Walle,                  1         1       1     1    1    1      1      1   \n",
       "der                     1         1       1     1    1    1      1      1   \n",
       "the                     1         1       1     1    1    1      1      1   \n",
       "y                       4         4       4     4    4    3      4      4   \n",
       "\n",
       "              Ticket  Fare  Cabin  Embarked  Group  \n",
       "Salutation                                          \n",
       "Billiard,          1     1      0         1      1  \n",
       "Capt.              1     1      1         1      1  \n",
       "Carlo,             1     1      0         1      1  \n",
       "Col.               2     2      1         2      2  \n",
       "Cruyssen,          1     1      0         1      1  \n",
       "Don.               1     1      0         1      1  \n",
       "Dr.                7     7      3         7      7  \n",
       "Gordon,            2     2      2         2      2  \n",
       "Impe,              3     3      0         3      3  \n",
       "Jonkheer.          1     1      0         1      1  \n",
       "Major.             2     2      2         2      2  \n",
       "Master.           40    40      7        40     40  \n",
       "Melkebeke,         1     1      0         1      1  \n",
       "Messemaeker,       1     1      0         1      1  \n",
       "Miss.            179   179     47       178    179  \n",
       "Mlle.              2     2      2         2      2  \n",
       "Mme.               1     1      1         1      1  \n",
       "Mr.              502   502     91       502    502  \n",
       "Mrs.             121   121     43       120    121  \n",
       "Ms.                1     1      0         1      1  \n",
       "Mulder,            1     1      0         1      1  \n",
       "Pelsmaeker,        1     1      0         1      1  \n",
       "Planke,            3     3      0         3      3  \n",
       "Rev.               6     6      0         6      6  \n",
       "Shawah,            1     1      0         1      1  \n",
       "Steen,             1     1      0         1      1  \n",
       "Velde,             1     1      0         1      1  \n",
       "Walle,             1     1      0         1      1  \n",
       "der                1     1      1         1      1  \n",
       "the                1     1      1         1      1  \n",
       "y                  4     4      2         4      4  "
      ]
     },
     "execution_count": 5,
     "metadata": {},
     "output_type": "execute_result"
    }
   ],
   "source": [
    "# printing the \"Salutation\" column\n",
    "titanic_df.groupby(\"Salutation\").count()"
   ]
  },
  {
   "cell_type": "markdown",
   "metadata": {},
   "source": [
    "We have some Salutations like \"y\", \"the\", \"der\" etc which we have never heard of and they also makes no sense.\n",
    "\n",
    "So, we may conclude to delete \"Salutation\" also."
   ]
  },
  {
   "cell_type": "code",
   "execution_count": 6,
   "metadata": {},
   "outputs": [],
   "source": [
    "# Dropping PassengerId, Name, Salutation, Cabin\n",
    "titanic_df = titanic_df.drop(\"PassengerId\", 1)\n",
    "titanic_df = titanic_df.drop(\"Name\", 1)\n",
    "titanic_df = titanic_df.drop(\"Salutation\", 1)\n",
    "titanic_df = titanic_df.drop(\"Cabin\", 1)"
   ]
  },
  {
   "cell_type": "code",
   "execution_count": 7,
   "metadata": {},
   "outputs": [
    {
     "data": {
      "text/html": [
       "<div>\n",
       "<style>\n",
       "    .dataframe thead tr:only-child th {\n",
       "        text-align: right;\n",
       "    }\n",
       "\n",
       "    .dataframe thead th {\n",
       "        text-align: left;\n",
       "    }\n",
       "\n",
       "    .dataframe tbody tr th {\n",
       "        vertical-align: top;\n",
       "    }\n",
       "</style>\n",
       "<table border=\"1\" class=\"dataframe\">\n",
       "  <thead>\n",
       "    <tr style=\"text-align: right;\">\n",
       "      <th></th>\n",
       "      <th>Survived</th>\n",
       "      <th>Pclass</th>\n",
       "      <th>Sex</th>\n",
       "      <th>Age</th>\n",
       "      <th>SibSp</th>\n",
       "      <th>Parch</th>\n",
       "      <th>Ticket</th>\n",
       "      <th>Fare</th>\n",
       "      <th>Embarked</th>\n",
       "      <th>Group</th>\n",
       "    </tr>\n",
       "  </thead>\n",
       "  <tbody>\n",
       "    <tr>\n",
       "      <th>0</th>\n",
       "      <td>0</td>\n",
       "      <td>3</td>\n",
       "      <td>male</td>\n",
       "      <td>22.0</td>\n",
       "      <td>1</td>\n",
       "      <td>0</td>\n",
       "      <td>A/5 21171</td>\n",
       "      <td>7.2500</td>\n",
       "      <td>S</td>\n",
       "      <td>1</td>\n",
       "    </tr>\n",
       "    <tr>\n",
       "      <th>1</th>\n",
       "      <td>1</td>\n",
       "      <td>1</td>\n",
       "      <td>female</td>\n",
       "      <td>38.0</td>\n",
       "      <td>1</td>\n",
       "      <td>0</td>\n",
       "      <td>PC 17599</td>\n",
       "      <td>71.2833</td>\n",
       "      <td>C</td>\n",
       "      <td>1</td>\n",
       "    </tr>\n",
       "    <tr>\n",
       "      <th>2</th>\n",
       "      <td>1</td>\n",
       "      <td>3</td>\n",
       "      <td>female</td>\n",
       "      <td>26.0</td>\n",
       "      <td>0</td>\n",
       "      <td>0</td>\n",
       "      <td>STON/O2. 3101282</td>\n",
       "      <td>7.9250</td>\n",
       "      <td>S</td>\n",
       "      <td>0</td>\n",
       "    </tr>\n",
       "    <tr>\n",
       "      <th>3</th>\n",
       "      <td>1</td>\n",
       "      <td>1</td>\n",
       "      <td>female</td>\n",
       "      <td>35.0</td>\n",
       "      <td>1</td>\n",
       "      <td>0</td>\n",
       "      <td>113803</td>\n",
       "      <td>53.1000</td>\n",
       "      <td>S</td>\n",
       "      <td>1</td>\n",
       "    </tr>\n",
       "    <tr>\n",
       "      <th>4</th>\n",
       "      <td>0</td>\n",
       "      <td>3</td>\n",
       "      <td>male</td>\n",
       "      <td>35.0</td>\n",
       "      <td>0</td>\n",
       "      <td>0</td>\n",
       "      <td>373450</td>\n",
       "      <td>8.0500</td>\n",
       "      <td>S</td>\n",
       "      <td>0</td>\n",
       "    </tr>\n",
       "  </tbody>\n",
       "</table>\n",
       "</div>"
      ],
      "text/plain": [
       "   Survived  Pclass     Sex   Age  SibSp  Parch            Ticket     Fare  \\\n",
       "0         0       3    male  22.0      1      0         A/5 21171   7.2500   \n",
       "1         1       1  female  38.0      1      0          PC 17599  71.2833   \n",
       "2         1       3  female  26.0      0      0  STON/O2. 3101282   7.9250   \n",
       "3         1       1  female  35.0      1      0            113803  53.1000   \n",
       "4         0       3    male  35.0      0      0            373450   8.0500   \n",
       "\n",
       "  Embarked  Group  \n",
       "0        S      1  \n",
       "1        C      1  \n",
       "2        S      0  \n",
       "3        S      1  \n",
       "4        S      0  "
      ]
     },
     "execution_count": 7,
     "metadata": {},
     "output_type": "execute_result"
    }
   ],
   "source": [
    "# seeing the new modified DataFrame\n",
    "titanic_df.head()"
   ]
  },
  {
   "cell_type": "markdown",
   "metadata": {},
   "source": [
    "Now, we have fixed all the NAN-filled columns. Our next thing to check is if all the cells have a clear meaning of minimum values. (Ex: Age = 0, Fare = 0 will have no meaning). We have already found FARE to be one of them. So, just checking them before moving to the next analysis."
   ]
  },
  {
   "cell_type": "code",
   "execution_count": 73,
   "metadata": {},
   "outputs": [
    {
     "data": {
      "text/plain": [
       "15"
      ]
     },
     "execution_count": 73,
     "metadata": {},
     "output_type": "execute_result"
    }
   ],
   "source": [
    "titanic_df[\"Fare\"][titanic_df[\"Fare\"] == 0].size"
   ]
  },
  {
   "cell_type": "markdown",
   "metadata": {},
   "source": [
    "So, we have 15 fares with 0\\$, which seems quite impossible in a costly ship like Titanic. But the models of imputing with either mean-median-mode does not seem promising. So, skipping it."
   ]
  },
  {
   "cell_type": "markdown",
   "metadata": {},
   "source": [
    "## 3.3 Data Exploration"
   ]
  },
  {
   "cell_type": "markdown",
   "metadata": {},
   "source": [
    "### 3.3.1 How socio-economic class is distributed in the total dataset.\n",
    "\n",
    "The main idea is to find how many people belonged to which class in the RMS Titanic."
   ]
  },
  {
   "cell_type": "code",
   "execution_count": 75,
   "metadata": {
    "scrolled": false
   },
   "outputs": [
    {
     "data": {
      "text/plain": [
       "<matplotlib.text.Text at 0x7f95e3dcc450>"
      ]
     },
     "execution_count": 75,
     "metadata": {},
     "output_type": "execute_result"
    },
    {
     "data": {
      "image/png": "[encoded data removed]",
      "text/plain": [
       "<matplotlib.figure.Figure at 0x7f95e4f62950>"
      ]
     },
     "metadata": {},
     "output_type": "display_data"
    }
   ],
   "source": [
    "# getting total number of records with class as 1, 2 and 3\n",
    "class1 = titanic_df[\"Pclass\"][titanic_df[\"Pclass\"]==1].size\n",
    "class2 = titanic_df[\"Pclass\"][titanic_df[\"Pclass\"]==2].size\n",
    "class3 = titanic_df[\"Pclass\"][titanic_df[\"Pclass\"]==3].size\n",
    "\n",
    "# plotting the distribution of three classes 1, 2 and 3\n",
    "plt.figure(1, figsize=(6,6))\n",
    "ax = plt.axes([0.1, 0.1, 0.8, 0.8])\n",
    "plt.pie([class1, class2, class3], labels=[\"Class 1\", \"Class 2\", \"Class 3\"], autopct='%1.1f%%')\n",
    "plt.title(\"Fig 1. Distribution of various Socio-Economic Classes\")"
   ]
  },
  {
   "cell_type": "markdown",
   "metadata": {},
   "source": [
    "### Observation\n",
    "\n",
    "The RMS Titanic had maximum passengers from the socio-economic class 3, followed by socio-economic class 2 and class 1."
   ]
  },
  {
   "cell_type": "markdown",
   "metadata": {
    "collapsed": true
   },
   "source": [
    "### 3.3.2 How is Fare related to various Socio-economic Class?\n",
    "\n",
    "We try to explore the <b>notion</b> - \"People from higher socio-economic class will buy tickets of higher price\"."
   ]
  },
  {
   "cell_type": "code",
   "execution_count": 11,
   "metadata": {},
   "outputs": [
    {
     "name": "stdout",
     "output_type": "stream",
     "text": [
      "Pclass\n",
      "1     5.0000\n",
      "2    10.5000\n",
      "3     4.0125\n",
      "Name: Fare, dtype: float64\n",
      "Pclass\n",
      "1    512.3292\n",
      "2     73.5000\n",
      "3     69.5500\n",
      "Name: Fare, dtype: float64\n",
      "Pclass\n",
      "1    86.148874\n",
      "2    21.358661\n",
      "3    13.787875\n",
      "Name: Fare, dtype: float64\n"
     ]
    }
   ],
   "source": [
    "# trying to find if there's a margin of ticket fare of the 3 classes \n",
    "print titanic_df[titanic_df[\"Fare\"] != 0].groupby(\"Pclass\")[\"Fare\"].min()\n",
    "print titanic_df[titanic_df[\"Fare\"] != 0].groupby(\"Pclass\")[\"Fare\"].max()\n",
    "print titanic_df[titanic_df[\"Fare\"] != 0].groupby(\"Pclass\")[\"Fare\"].mean()"
   ]
  },
  {
   "cell_type": "markdown",
   "metadata": {},
   "source": [
    "So, we can see that \"Passenger Class\" is <b>not dependent</b> on the \"Fare\" of the ticket he has bought. 1st class passenger is buying a ticket of 5\\$ which is way less than the mean fare (86\\$) of 1st class. Also such intermixing can be seen from the above statistics. We may <b>plot</b> a grpah to see the intermixing."
   ]
  },
  {
   "cell_type": "code",
   "execution_count": 89,
   "metadata": {},
   "outputs": [
    {
     "data": {
      "text/plain": [
       "<matplotlib.text.Text at 0x7f95e2e589d0>"
      ]
     },
     "execution_count": 89,
     "metadata": {},
     "output_type": "execute_result"
    },
    {
     "data": {
      "image/png": "[encoded data removed]",
      "text/plain": [
       "<matplotlib.figure.Figure at 0x7f95e32b5050>"
      ]
     },
     "metadata": {},
     "output_type": "display_data"
    }
   ],
   "source": [
    "# the list to store class distribution in the given fare ranges\n",
    "fare_class_plot=[]\n",
    "\n",
    "# function to form the list of lists contianing the class distribution\n",
    "def fare_class(i, j):\n",
    "    temp = []\n",
    "    total_class = titanic_df[\"Pclass\"][(titanic_df[\"Fare\"]>i) & (titanic_df[\"Fare\"]<j)].size\n",
    "    total_class1 = titanic_df[\"Pclass\"][(titanic_df[\"Fare\"]>i) & (titanic_df[\"Fare\"]<j) & (titanic_df[\"Pclass\"]==1)].size\n",
    "    total_class2 = titanic_df[\"Pclass\"][(titanic_df[\"Fare\"]>i) & (titanic_df[\"Fare\"]<j) & (titanic_df[\"Pclass\"]==2)].size\n",
    "    total_class3 = titanic_df[\"Pclass\"][(titanic_df[\"Fare\"]>i) & (titanic_df[\"Fare\"]<j) & (titanic_df[\"Pclass\"]==3)].size\n",
    "    \n",
    "    \n",
    "    if total_class == 0:\n",
    "        temp.append(0)\n",
    "    else:\n",
    "        temp.append(total_class1/(total_class*1.0)*100)\n",
    "        temp.append(total_class2/(total_class*1.0)*100)\n",
    "        temp.append(total_class3/(total_class*1.0)*100)\n",
    "\n",
    "    fare_class_plot.append(temp)\n",
    "    \n",
    "# looping over various fare ranges to form the list\n",
    "for i in xrange(0, 550, 50):\n",
    "    fare_class(i, i+50)\n",
    "    \n",
    "# converting the 2D list into a DataFrame\n",
    "fare_class_plot_df = pd.DataFrame(fare_class_plot, columns=[\"class 1\", \"class 2\", \"class 3\"], index=['0-50','50-100','100-150','150-200','200-250','250-300','300-350','350-400','400-450','450-500','500-550'])\n",
    "\n",
    "# Plotting the DataFrame\n",
    "ax = fare_class_plot_df.plot(kind='bar')\n",
    "ax.set_xlabel(\"Fares\")\n",
    "ax.set_ylabel(\"Distribution of Classes\")\n",
    "ax.set_title(\"Fig 2. Distribution of classes in prices of tickets.\\n\\n\")"
   ]
  },
  {
   "cell_type": "markdown",
   "metadata": {},
   "source": [
    "### Observation\n",
    "\n",
    "1. Tickets within range 0\\$-50\\$ is bought mainly by Class 3 people. However Class 2 and Class 1 people also bought ticket within that range.\n",
    "2. Tickets within range 50\\$-100\\$ is bought at max by Class 1 people. However Class 3 and Class 2 people also bought ticket within that range.\n",
    "3. All other tickets from 100\\$-512\\$ is bought by the Class 1 people only."
   ]
  },
  {
   "cell_type": "markdown",
   "metadata": {},
   "source": [
    "### 3.3.3 Survival Rate of Various Socio-economic Class\n",
    "\n",
    "We may now try to observe how survival rate varied as per socio-economic class. This may give us an insight if there were any preferences of class during evacuation"
   ]
  },
  {
   "cell_type": "code",
   "execution_count": 77,
   "metadata": {},
   "outputs": [
    {
     "data": {
      "text/plain": [
       "<matplotlib.text.Text at 0x7f95e3b882d0>"
      ]
     },
     "execution_count": 77,
     "metadata": {},
     "output_type": "execute_result"
    },
    {
     "data": {
      "image/png": "[encoded data removed]",
      "text/plain": [
       "<matplotlib.figure.Figure at 0x7f95e4b86e50>"
      ]
     },
     "metadata": {},
     "output_type": "display_data"
    }
   ],
   "source": [
    "# getting the number of survived passengers of the 3 classes\n",
    "total_survived_class1 = titanic_df[\"Pclass\"][(titanic_df[\"Survived\"] == 1) & (titanic_df[\"Pclass\"]==1)].size\n",
    "total_survived_class2 = titanic_df[\"Pclass\"][(titanic_df[\"Survived\"] == 1) & (titanic_df[\"Pclass\"]==2)].size\n",
    "total_survived_class3 = titanic_df[\"Pclass\"][(titanic_df[\"Survived\"] == 1) & (titanic_df[\"Pclass\"]==3)].size\n",
    "\n",
    "# plotting the distribution of classes\n",
    "plt.figure(1, figsize=(6,6))\n",
    "ax = plt.axes([0.1, 0.1, 0.8, 0.8])\n",
    "plt.pie([total_survived_class1, total_survived_class2, total_survived_class3], labels=[\"Class 1\", \"Class 2\", \"Class 3\"], autopct='%1.1f%%')\n",
    "plt.title(\"Fig 3. Distribution of Survival of various Socio-Economic Classes\")"
   ]
  },
  {
   "cell_type": "markdown",
   "metadata": {},
   "source": [
    "### Observation\n",
    "\n",
    "We can see survival rate of Class 1 is highest, followed by Class 1 and then Class 2.\n",
    "\n",
    "So, we may conclude there was some preferece given to people from higher socio-economic class. "
   ]
  },
  {
   "cell_type": "markdown",
   "metadata": {},
   "source": [
    "### 3.3.4 Survival Rate on basis of Fare\n",
    "\n",
    "Now we are again interested to find the same notion - if higher ticket price played any role in survival rate. Let's find out."
   ]
  },
  {
   "cell_type": "code",
   "execution_count": 78,
   "metadata": {},
   "outputs": [
    {
     "data": {
      "text/plain": [
       "<matplotlib.text.Text at 0x7f95e3a98950>"
      ]
     },
     "execution_count": 78,
     "metadata": {},
     "output_type": "execute_result"
    },
    {
     "data": {
      "image/png": "[encoded data removed]",
      "text/plain": [
       "<matplotlib.figure.Figure at 0x7f95e4b2dbd0>"
      ]
     },
     "metadata": {},
     "output_type": "display_data"
    }
   ],
   "source": [
    "fare_survival_plot=[]\n",
    "\n",
    "# function to create 2D list for survival rate of various range of fares\n",
    "def fare_survival(i, j):\n",
    "    total = titanic_df[\"Fare\"][(titanic_df[\"Fare\"]>i) & (titanic_df[\"Fare\"]<j)].size\n",
    "    total_survived = titanic_df[\"Fare\"][(titanic_df[\"Fare\"]>i) & (titanic_df[\"Fare\"]<j) & (titanic_df[\"Survived\"]==1)].size\n",
    "    \n",
    "    if total == 0:\n",
    "        fare_survival_plot.append(0)\n",
    "    else:\n",
    "        fare_survival_plot.append(total_survived/(total*1.0)*100)\n",
    "\n",
    "# looping over each fare range to generate it's survival rate\n",
    "for i in xrange(0, 550, 50):\n",
    "    fare_survival(i, i+50) \n",
    "    \n",
    "# plotting the above concept\n",
    "fare_survival_plot_df = pd.DataFrame(fare_survival_plot, index=['0-50','50-100','100-150','150-200','200-250','250-300','300-350','350-400','400-450','450-500','500-550'], columns=[\"Survived\"])\n",
    "ax = fare_survival_plot_df.plot(kind = 'bar')\n",
    "ax.set_xlabel(\"Ticket Fare\")\n",
    "ax.set_ylabel(\"Survival %\")\n",
    "ax.set_title(\"Fig 4. Survival Rate in various Ticket Fare Range\\n\\n\")"
   ]
  },
  {
   "cell_type": "markdown",
   "metadata": {},
   "source": [
    "### Observation\n",
    "\n",
    "We can see that the least fare range (mainly bought by class 3 people) has the least survival rate. And the last ticket range (mainly bought by class 1 people) has the best survival rate.\n",
    "\n",
    "We may conclude that there was a preference for class 1 people and people with higher ticket price."
   ]
  },
  {
   "cell_type": "markdown",
   "metadata": {},
   "source": [
    "### 3.3.5 Survival rate on the basis of Embarked Port\n",
    "\n",
    "We may be interested on finding if people from a particular port has a higher survival rate."
   ]
  },
  {
   "cell_type": "code",
   "execution_count": 79,
   "metadata": {},
   "outputs": [
    {
     "data": {
      "text/plain": [
       "<matplotlib.text.Text at 0x7f95e39c1090>"
      ]
     },
     "execution_count": 79,
     "metadata": {},
     "output_type": "execute_result"
    },
    {
     "data": {
      "image/png": "[encoded data removed]",
      "text/plain": [
       "<matplotlib.figure.Figure at 0x7f95e3beff10>"
      ]
     },
     "metadata": {},
     "output_type": "display_data"
    }
   ],
   "source": [
    "# getting the number of passengers embarked from different ports\n",
    "total_survived_C = titanic_df[\"Embarked\"][(titanic_df[\"Survived\"] == 1) & (titanic_df[\"Embarked\"]==\"C\")].size\n",
    "total_survived_Q = titanic_df[\"Embarked\"][(titanic_df[\"Survived\"] == 1) & (titanic_df[\"Embarked\"]==\"Q\")].size\n",
    "total_survived_S = titanic_df[\"Embarked\"][(titanic_df[\"Survived\"] == 1) & (titanic_df[\"Embarked\"]==\"S\")].size\n",
    "\n",
    "# plotting the distribution of the embarkation ports\n",
    "plt.figure(1, figsize=(6,6))\n",
    "ax = plt.axes([0.1, 0.1, 0.8, 0.8])\n",
    "plt.pie([total_survived_C, total_survived_Q, total_survived_S], labels=[\"Cherbourg\", \"Queenstown\", \"Southampton\"], autopct='%1.1f%%')\n",
    "plt.title(\"Fig 5. Distribution of Survival of various Embarked Port\")"
   ]
  },
  {
   "cell_type": "markdown",
   "metadata": {},
   "source": [
    "### Observation\n",
    "\n",
    "Quite a success! We have people from Queenstown with the lowest survival rate. This makes us curious to find how <b>embarked port</b> is associated with <b>class</b> and <b>ticket fare</b>."
   ]
  },
  {
   "cell_type": "markdown",
   "metadata": {},
   "source": [
    "### 3.3.6 How Embarked Port is related to Class and Ticket Fare?\n",
    "\n",
    "Like we have just discussed, we got a high survival rate for Class 1 people as well as for people with high priced tickets. Again as our analysis says, there's a particular port on which survival rate is high. So, is there's a co-relation? Let's find it out."
   ]
  },
  {
   "cell_type": "code",
   "execution_count": 81,
   "metadata": {},
   "outputs": [
    {
     "data": {
      "text/plain": [
       "<matplotlib.text.Text at 0x7f95e3645c50>"
      ]
     },
     "execution_count": 81,
     "metadata": {},
     "output_type": "execute_result"
    },
    {
     "data": {
      "image/png": "[encoded data removed]",
      "text/plain": [
       "<matplotlib.figure.Figure at 0x7f95e37398d0>"
      ]
     },
     "metadata": {},
     "output_type": "display_data"
    },
    {
     "data": {
      "image/png": "[encoded data removed]",
      "text/plain": [
       "<matplotlib.figure.Figure at 0x7f95e366e490>"
      ]
     },
     "metadata": {},
     "output_type": "display_data"
    }
   ],
   "source": [
    "embarked_class_plot=[]\n",
    "\n",
    "# function to generate 2D list containing class variation in the embarked ports\n",
    "def embarked_class(i):\n",
    "    total = titanic_df[\"Embarked\"][(titanic_df[\"Embarked\"]==i)].size\n",
    "    total_1 = titanic_df[\"Embarked\"][(titanic_df[\"Embarked\"]==i) & (titanic_df[\"Pclass\"]==1)].size\n",
    "    total_2 = titanic_df[\"Embarked\"][(titanic_df[\"Embarked\"]==i) & (titanic_df[\"Pclass\"]==2)].size\n",
    "    total_3 = titanic_df[\"Embarked\"][(titanic_df[\"Embarked\"]==i) & (titanic_df[\"Pclass\"]==3)].size\n",
    "    \n",
    "    a = total_1/(total*1.0)*100\n",
    "    b = total_2/(total*1.0)*100\n",
    "    c = total_3/(total*1.0)*100\n",
    "    embarked_class_plot.append([a, b, c])\n",
    "        \n",
    "for i in ['S', 'C', 'Q']:\n",
    "    embarked_class(i)\n",
    "\n",
    "# plotting class variation in the embarked ports\n",
    "embarked_class_plot_df = pd.DataFrame(embarked_class_plot, index=[\"S\", \"C\", \"Q\"], columns=[\"Class 1\", \"Class 2\", \"Class 3\"])\n",
    "ax = embarked_class_plot_df.plot(kind = 'bar')\n",
    "ax.set_xlabel(\"Embarked Port\")\n",
    "ax.set_ylabel(\"Population %\")\n",
    "ax.set_title(\"Fig 6. Population Distribution for different Class in different Embarked Ports\\n\\n\")\n",
    "\n",
    "embarked_fare_plot=[]\n",
    "\n",
    "# function to generate 2D list containing fare variation in the embarked ports\n",
    "def embarked_fare(i):\n",
    "    total = titanic_df[\"Embarked\"][(titanic_df[\"Embarked\"]==i)].size\n",
    "    total_1 = titanic_df[\"Embarked\"][(titanic_df[\"Embarked\"]==i) & (titanic_df[\"Fare\"]>=0) & (titanic_df[\"Fare\"]<50)].size\n",
    "    total_2 = titanic_df[\"Embarked\"][(titanic_df[\"Embarked\"]==i) & (titanic_df[\"Fare\"]>=50) & (titanic_df[\"Fare\"]<100)].size\n",
    "    total_3 = titanic_df[\"Embarked\"][(titanic_df[\"Embarked\"]==i) & (titanic_df[\"Fare\"]>=100) & (titanic_df[\"Fare\"]<550)].size\n",
    "    \n",
    "    a = total_1/(total*1.0)*100\n",
    "    b = total_2/(total*1.0)*100\n",
    "    c = total_3/(total*1.0)*100\n",
    "    embarked_fare_plot.append([a, b, c])\n",
    "        \n",
    "for i in ['S', 'C', 'Q']:\n",
    "    embarked_fare(i)\n",
    "\n",
    "# plotting fare variation in the embarked ports\n",
    "embarked_fare_plot_df = pd.DataFrame(embarked_fare_plot, index=[\"S\", \"C\", \"Q\"], columns=[\"0-50\", \"50-100\", \"100-550\"])\n",
    "ax = embarked_fare_plot_df.plot(kind = 'bar')\n",
    "ax.set_xlabel(\"Embarked Port\")\n",
    "ax.set_ylabel(\"Price %\")\n",
    "ax.set_title(\"Fig 7. Price Distribution for different Class in different Embarked Ports\\n\\n\")\n"
   ]
  },
  {
   "cell_type": "markdown",
   "metadata": {},
   "source": [
    "### Observation\n",
    "\n",
    "So, we are correct! \n",
    "\n",
    "The distribution of Class in Queenstown as we see the population had maximum of class 3 people and also had the least survival rate.\n",
    "\n",
    "The Fare Distribution also shows that people from Queensland did not buy much costly ticket which can also be the cause of the low survival rate."
   ]
  },
  {
   "cell_type": "markdown",
   "metadata": {},
   "source": [
    "### 3.3.7 How survival rate of people varied with family?\n",
    "\n",
    "We are now intersested to find how the survival rate of people varied with those who have either of sibling, spouse, parent or child and those who have not. One thing to remember, we already have a column group that takes into account the size of the family of a particular passenger. "
   ]
  },
  {
   "cell_type": "code",
   "execution_count": 82,
   "metadata": {},
   "outputs": [
    {
     "data": {
      "text/plain": [
       "<matplotlib.text.Text at 0x7f95e352d550>"
      ]
     },
     "execution_count": 82,
     "metadata": {},
     "output_type": "execute_result"
    },
    {
     "data": {
      "image/png": "[encoded data removed]",
      "text/plain": [
       "<matplotlib.figure.Figure at 0x7f95e42036d0>"
      ]
     },
     "metadata": {},
     "output_type": "display_data"
    }
   ],
   "source": [
    "# plotting the distribution of passengers against family and without family\n",
    "total_w_family = titanic_df[\"Group\"][(titanic_df[\"Survived\"] == 1) & (titanic_df[\"Group\"]!= 0)].size\n",
    "total_wo_family = titanic_df[\"Group\"][(titanic_df[\"Survived\"] == 1) & (titanic_df[\"Group\"]==0)].size\n",
    "\n",
    "plt.figure(1, figsize=(6,6))\n",
    "ax = plt.axes([0.1, 0.1, 0.8, 0.8])\n",
    "plt.pie([total_w_family, total_wo_family], labels=[\"with family\", \"without family\"], autopct='%1.1f%%')\n",
    "plt.title(\"Fig 8. Distribution of Survival for passeneger with and without family\")"
   ]
  },
  {
   "cell_type": "markdown",
   "metadata": {},
   "source": [
    "### Observation\n",
    "\n",
    "Strange! We expected people without family to be evacuated easily without hassels of finding other lost family members. But things seems different. Most probably people without family gave way to those with a family."
   ]
  },
  {
   "cell_type": "markdown",
   "metadata": {},
   "source": [
    "### 3.3.8 How men and women were distributed in the population?\n",
    "\n",
    "A long waited analysis - what were the number of men and women?"
   ]
  },
  {
   "cell_type": "code",
   "execution_count": 84,
   "metadata": {},
   "outputs": [
    {
     "data": {
      "text/plain": [
       "<matplotlib.text.Text at 0x7f95e3450a50>"
      ]
     },
     "execution_count": 84,
     "metadata": {},
     "output_type": "execute_result"
    },
    {
     "data": {
      "image/png": "[encoded data removed]",
      "text/plain": [
       "<matplotlib.figure.Figure at 0x7f95e34c6090>"
      ]
     },
     "metadata": {},
     "output_type": "display_data"
    }
   ],
   "source": [
    "# plotting the distribution of sex amongst the passengers\n",
    "div_sex = titanic_df.groupby('Sex')[\"Survived\"].count()\n",
    "ax = div_sex.plot.bar(title='Fig 9. Men vs Women\\n\\n')\n",
    "ax.set_ylabel(\"Total Population\")"
   ]
  },
  {
   "cell_type": "markdown",
   "metadata": {},
   "source": [
    "### 3.3.9 Survival Rate of Male and Female\n",
    "\n",
    "Once we have seen the distribution of male and female, we may also want to see the survival distribution of male and female."
   ]
  },
  {
   "cell_type": "code",
   "execution_count": 85,
   "metadata": {},
   "outputs": [
    {
     "data": {
      "text/plain": [
       "<matplotlib.text.Text at 0x7f95e338b110>"
      ]
     },
     "execution_count": 85,
     "metadata": {},
     "output_type": "execute_result"
    },
    {
     "data": {
      "image/png": "[encoded data removed]",
      "text/plain": [
       "<matplotlib.figure.Figure at 0x7f95e340c450>"
      ]
     },
     "metadata": {},
     "output_type": "display_data"
    }
   ],
   "source": [
    "# plotting the survival of the sexes\n",
    "div_sex = titanic_df[titanic_df[\"Survived\"] == 1].groupby(\"Sex\")[\"Survived\"].count()\n",
    "ax = div_sex.plot.bar(title='Fig 10. Survival of Men & Women\\n\\n')\n",
    "ax.set_ylabel(\"Total Population\")"
   ]
  },
  {
   "cell_type": "markdown",
   "metadata": {},
   "source": [
    "### Observation\n",
    "\n",
    "We can see a clear trend! We can make a mere conclusion that women were rescued first.\n",
    "\n",
    "Taking this conclusion, let us investigate more to see other factors such as age in survival rate of the females."
   ]
  },
  {
   "cell_type": "markdown",
   "metadata": {},
   "source": [
    "### 3.3.10  How age played a role in survival ?\n",
    "\n",
    "We all know that the rescue protocol is - \"Save women and children first\". We already a trend showing women were rescued first given their high survival rate. Let's see how age played a role in male, female and as a whole."
   ]
  },
  {
   "cell_type": "code",
   "execution_count": 86,
   "metadata": {},
   "outputs": [
    {
     "data": {
      "text/plain": [
       "<matplotlib.text.Text at 0x7f95e3287990>"
      ]
     },
     "execution_count": 86,
     "metadata": {},
     "output_type": "execute_result"
    },
    {
     "data": {
      "image/png": "[encoded data removed]",
      "text/plain": [
       "<matplotlib.figure.Figure at 0x7f95e3e60090>"
      ]
     },
     "metadata": {},
     "output_type": "display_data"
    }
   ],
   "source": [
    "# the groups based on age\n",
    "# infants (0-1)\n",
    "# children (2-12)\n",
    "# teen (13-18)\n",
    "# youth (19-35)\n",
    "# midage (36-50)\n",
    "# mature adults (51-60)\n",
    "# old (60+)\n",
    "\n",
    "p_survival_plot = []\n",
    "\n",
    "# function to form the 2D list for survival of male and female of different age groups\n",
    "def p_survival(gr1, gr2):\n",
    "    total_in_gr_f = titanic_df[\"Sex\"][(titanic_df[\"Sex\"] == \"female\") & ((titanic_df[\"Age\"] >= gr1) & (titanic_df[\"Age\"] < gr2))].size\n",
    "    survived_in_gr_f = titanic_df[\"Sex\"][(titanic_df[\"Sex\"] == \"female\") & ((titanic_df[\"Age\"] >= gr1) & (titanic_df[\"Age\"] < gr2)) & (titanic_df[\"Survived\"] == 1)].size\n",
    "    #p_survival_plot.append((survived_in_gr_f/ (total_in_gr_f*1.0))*100)\n",
    "    \n",
    "    total_in_gr_m = titanic_df[\"Sex\"][(titanic_df[\"Sex\"] == \"male\") & ((titanic_df[\"Age\"] >= gr1) & (titanic_df[\"Age\"] < gr2))].size\n",
    "    survived_in_gr_m = titanic_df[\"Sex\"][(titanic_df[\"Sex\"] == \"male\") & ((titanic_df[\"Age\"] >= gr1) & (titanic_df[\"Age\"] < gr2)) & (titanic_df[\"Survived\"] == 1)].size\n",
    "    p_survival_plot.append([((survived_in_gr_f/ (total_in_gr_f*1.0))*100), ((survived_in_gr_m/ (total_in_gr_m*1.0))*100)])\n",
    "    \n",
    "age = [0,2,13,19,36,51,61,81]\n",
    "for i in range(1, len(age)):\n",
    "    p_survival(age[i-1], age[i])\n",
    "    \n",
    "# plotting survival of male and female of different age groups\n",
    "p_survival_plot_df = pd.DataFrame(p_survival_plot, columns=[\"female\", \"male\"], index=[\"infants\", \"children\", \"teen\", \"youth\", \"midage\", \"mature adults\", \"old\"])\n",
    "ax = p_survival_plot_df.plot(kind = 'bar')\n",
    "ax.set_xlabel(\"Age Group\")\n",
    "ax.set_ylabel(\"Survival %\")\n",
    "ax.set_title(\"Fig 11. Survival of male and female of different age groups\\n\\n\")"
   ]
  },
  {
   "cell_type": "markdown",
   "metadata": {},
   "source": [
    "### Observation\n",
    "\n",
    "So, we can conclude the following points as from this.\n",
    "1. Infant females have a survival rate of 100% as well as male infants have 80%. (\"Babies First\" was followed well).\n",
    "2. Survival rate of female children is very less compared to other female age groups. (possibly they were unable to adapt to the extreme conditions). However male children have a very high survival rate. So, we can again conclude - <b>\"children of both sex were given preference\"</b>.\n",
    "3. Survival of teenagers, youths and midaged people are more or less same for both sexes.\n",
    "4. Finally mature adults and old aged people shows an impressive survival rate in females. So, these age grouped people also are given prefernece in females. However old males died highly due to the extreme weather."
   ]
  },
  {
   "cell_type": "markdown",
   "metadata": {},
   "source": [
    "### 3.3.11 We may want to see what is the distribution of class and survival rate of various classes in different  age groups.\n",
    "\n",
    "Now as we have seen the survival rate of various age groups, we may try to extend our previuos conclusions by seeing more closely how the classes are spread in various age groups."
   ]
  },
  {
   "cell_type": "code",
   "execution_count": 67,
   "metadata": {},
   "outputs": [],
   "source": [
    "survival_class_age_plot = []\n",
    "class_age_plot = []\n",
    "\n",
    "# function to form 2D list for distribution of classes in various age groups and rate of survival of various ages\n",
    "def p_survival_f1(gr1, gr2):\n",
    "    temp = []\n",
    "    total_in_gr_class1 = titanic_df[\"Sex\"][((titanic_df[\"Age\"] >= gr1) & (titanic_df[\"Age\"] < gr2)) & (titanic_df[\"Pclass\"] == 1) ].size\n",
    "    total_in_gr_class2 = titanic_df[\"Sex\"][((titanic_df[\"Age\"] >= gr1) & (titanic_df[\"Age\"] < gr2)) & (titanic_df[\"Pclass\"] == 2) ].size\n",
    "    total_in_gr_class3 = titanic_df[\"Sex\"][((titanic_df[\"Age\"] >= gr1) & (titanic_df[\"Age\"] < gr2)) & (titanic_df[\"Pclass\"] == 3) ].size\n",
    "    \n",
    "    survived_in_gr_class1 = titanic_df[\"Sex\"][((titanic_df[\"Age\"] >= gr1) & (titanic_df[\"Age\"] < gr2)) & (titanic_df[\"Survived\"] == 1) & (titanic_df[\"Pclass\"] == 1) ].size\n",
    "    survived_in_gr_class2 = titanic_df[\"Sex\"][((titanic_df[\"Age\"] >= gr1) & (titanic_df[\"Age\"] < gr2)) & (titanic_df[\"Survived\"] == 1) & (titanic_df[\"Pclass\"] == 2) ].size\n",
    "    survived_in_gr_class3 = titanic_df[\"Sex\"][((titanic_df[\"Age\"] >= gr1) & (titanic_df[\"Age\"] < gr2)) & (titanic_df[\"Survived\"] == 1) & (titanic_df[\"Pclass\"] == 3) ].size\n",
    "    if total_in_gr_class1:\n",
    "        temp.append(survived_in_gr_class1 / (total_in_gr_class1*1.0)*100)\n",
    "    else:\n",
    "        temp.append(0)\n",
    "    \n",
    "    if total_in_gr_class2:\n",
    "        temp.append(survived_in_gr_class2 / (total_in_gr_class2*1.0)*100)\n",
    "    else:\n",
    "        temp.append(0)\n",
    "    \n",
    "    if total_in_gr_class3:\n",
    "        temp.append(survived_in_gr_class3 / (total_in_gr_class3*1.0)*100)\n",
    "    else:\n",
    "        temp.append(0)\n",
    "        \n",
    "    # appending distribution of classes in various age groups to the list\n",
    "    survival_class_age_plot.append(temp)\n",
    "    # appending rate of survival of various ages to the list\n",
    "    class_age_plot.append([total_in_gr_class1, total_in_gr_class2, total_in_gr_class3])\n",
    "\n",
    "for i in range(1, len(age)):\n",
    "    p_survival_f1(age[i-1], age[i])"
   ]
  },
  {
   "cell_type": "code",
   "execution_count": 90,
   "metadata": {},
   "outputs": [
    {
     "data": {
      "text/plain": [
       "<matplotlib.text.Text at 0x7f95e374ed10>"
      ]
     },
     "execution_count": 90,
     "metadata": {},
     "output_type": "execute_result"
    },
    {
     "data": {
      "image/png": "[encoded data removed]",
      "text/plain": [
       "<matplotlib.figure.Figure at 0x7f95e2f7a110>"
      ]
     },
     "metadata": {},
     "output_type": "display_data"
    }
   ],
   "source": [
    "# plotting the distribution of classes in various age groupsclass_age_plot_df = pd.DataFrame(class_age_plot, index=['infant', 'childern', 'teen', 'youth', 'midage', 'mature adults', 'old'], columns=['class A', 'class B', 'class C'])\n",
    "ax = class_age_plot_df.plot(kind = 'bar')\n",
    "ax.set_ylabel(\"Distribution of classes\")\n",
    "ax.set_xlabel(\"Age Groups\")\n",
    "ax.set_title(\"Fig 12. Distribution of classes in various age groups\\n\\n\") "
   ]
  },
  {
   "cell_type": "code",
   "execution_count": 88,
   "metadata": {},
   "outputs": [
    {
     "data": {
      "text/plain": [
       "<matplotlib.text.Text at 0x7f95e300d290>"
      ]
     },
     "execution_count": 88,
     "metadata": {},
     "output_type": "execute_result"
    },
    {
     "data": {
      "image/png": "[encoded data removed]",
      "text/plain": [
       "<matplotlib.figure.Figure at 0x7f95e33953d0>"
      ]
     },
     "metadata": {},
     "output_type": "display_data"
    }
   ],
   "source": [
    "# plotting rate of survival of various ages\n",
    "survival_class_age_plot_df = pd.DataFrame(survival_class_age_plot, index=['infant', 'childern', 'teen', 'youth', 'midage', 'mature adults', 'old'], columns=['class A', 'class B', 'class C'])\n",
    "ax = survival_class_age_plot_df.plot(kind = 'bar')\n",
    "ax.set_ylabel(\"% of survival per class\")\n",
    "ax.set_xlabel(\"Age Groups\")\n",
    "ax.set_title(\"Fig 13. Rate of survival of various ages\\n\\n\")"
   ]
  },
  {
   "cell_type": "markdown",
   "metadata": {
    "collapsed": true
   },
   "source": [
    "### Observation\n",
    "\n",
    "We can say that mostly mature adults and old people are from higher socio-economic status following the first graph.\n",
    "\n",
    "And again based on various age groups we can clearly see the class C people least survived (even this is true for infants - sadly)"
   ]
  },
  {
   "cell_type": "markdown",
   "metadata": {},
   "source": [
    "DONE : Now I want to find out is there's a relation of fare and socio-economic status?"
   ]
  },
  {
   "cell_type": "markdown",
   "metadata": {},
   "source": [
    "So, we can clearly see that class2 and class3 passengers only bought tickets within range 0$-100$. However class1 people bought tickets of all ranges. So, we cannot say that higher class people is associated with higher ticket prices."
   ]
  },
  {
   "cell_type": "markdown",
   "metadata": {},
   "source": [
    "Distribution of ticket fare and survival rate"
   ]
  },
  {
   "cell_type": "code",
   "execution_count": null,
   "metadata": {},
   "outputs": [],
   "source": [
    "distribution_of_fare_plot=[]\n",
    "\n",
    "def distribution_of_fare(i, j):\n",
    "    total = titanic_df[\"Fare\"][(titanic_df[\"Fare\"]>i) & (titanic_df[\"Fare\"]<j)].size\n",
    "    survived = titanic_df[\"Fare\"][(titanic_df[\"Fare\"]>i) & (titanic_df[\"Fare\"]<j) & (titanic_df[\"Survived\"] == 1)].size\n",
    "    #print \"******** SURVIVAL RATE IN FARE RANGE (\" + str(i) + \"$-\" + str(j) + \"$) ********\"\n",
    "    if total == 0:\n",
    "        #print \"No data..\"\n",
    "        distribution_of_fare_plot.append(0)\n",
    "        return None\n",
    "    #print str(survived) + \"/\" + str(total) + \" = \" + str(survived/(total*1.0) * 100) + \"%\"\n",
    "    distribution_of_fare_plot.append(survived/(total*1.0) * 100)\n",
    "    \n",
    "for i in xrange(0, 550, 50):\n",
    "    distribution_of_fare(i, i+50)\n",
    "    \n",
    "distribution_of_fare_plot_df = pd.DataFrame(distribution_of_fare_plot, columns=[\"survived\"], index=['0-50','50-100','100-150','150-200','200-250','250-300','300-350','350-400','400-450','450-500','500-550'])\n",
    "ax = distribution_of_fare_plot_df.plot(kind='bar')\n",
    "ax.set_xlabel(\"Fares\")\n",
    "ax.set_ylabel(\"Survival %\")\n",
    "ax.set_title(\"Impact of Fare on Survival Rate\\n\\n\")"
   ]
  },
  {
   "cell_type": "markdown",
   "metadata": {},
   "source": [
    "## Improving Plots and Sharing Findings"
   ]
  },
  {
   "cell_type": "code",
   "execution_count": 3,
   "metadata": {
    "collapsed": true
   },
   "outputs": [],
   "source": [
    "# ************* RELATION WITH TICKET (to be deleted once implemented) *********************\n",
    "#print titanic_df.groupby(\"Ticket\").count()[\"Pclass\"].max()\n",
    "\n",
    "\n",
    "# imputing \"Age\" with mean\n",
    "#titanic_df[\"Age\"] = titanic_df[\"Age\"].fillna(titanic_df[\"Age\"].mean())\n",
    "#titanic_df[\"Age\"].fillna(titanic_df[\"Age\"].mean(), inplace = True)\n",
    "\n",
    "# imputing \"Embarked\" with mode\n",
    "#titanic_df[\"Embarked\"] = titanic_df.fillna(titanic_df[\"Embarked\"].mode())\n",
    "#titanic_df.fillna(titanic_df[\"Embarked\"].mode()[0], inplace = True)"
   ]
  },
  {
   "cell_type": "code",
   "execution_count": 9,
   "metadata": {
    "collapsed": true
   },
   "outputs": [],
   "source": [
    "#print titanic_df[\"Sex\"][(titanic_df[\"Sex\"] == \"female\")].size\n",
    "#print titanic_df[\"Sex\"][(titanic_df[\"Sex\"] == \"female\") & (titanic_df[\"Survived\"] == 1)].size\n",
    "\n",
    "#print titanic_df[\"Sex\"][(titanic_df[\"Sex\"] == \"male\")].size\n",
    "#print titanic_df[\"Sex\"][(titanic_df[\"Sex\"] == \"male\") & (titanic_df[\"Survived\"] == 1)].size"
   ]
  }
 ],
 "metadata": {
  "kernelspec": {
   "display_name": "Python [default]",
   "language": "python",
   "name": "python2"
  },
  "language_info": {
   "codemirror_mode": {
    "name": "ipython",
    "version": 2
   },
   "file_extension": ".py",
   "mimetype": "text/x-python",
   "name": "python",
   "nbconvert_exporter": "python",
   "pygments_lexer": "ipython2",
   "version": "2.7.13"
  }
 },
 "nbformat": 4,
 "nbformat_minor": 1
}
