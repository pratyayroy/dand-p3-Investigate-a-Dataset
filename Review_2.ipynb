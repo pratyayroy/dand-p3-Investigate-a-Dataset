{
 "cells": [
  {
   "cell_type": "markdown",
   "metadata": {},
   "source": [
    "# <center> Investigate a Dataset | Titanic Data</center>\n",
    "<hr>"
   ]
  },
  {
   "cell_type": "markdown",
   "metadata": {},
   "source": [
    "# 1. Introduction to the Project"
   ]
  },
  {
   "cell_type": "markdown",
   "metadata": {},
   "source": [
    "> RMS Titanic was a British passenger liner that sank in the North Atlantic Ocean in the early morning of 15 April 1912, after colliding with an iceberg during her maiden voyage from Southampton to New York City. Of the estimated 2,224 passengers and crew aboard, more than 1,500 died, making it one of the deadliest commercial  maritime disasters in modern history.\n",
    "\n",
    "We are given the dataset that contains demographics and passenger information for 891 of the 2224 passengers and crew on board. Our objective is to discover useful information, suggesting conclusions, and supporting decision-making.\n",
    "\n",
    "***"
   ]
  },
  {
   "cell_type": "markdown",
   "metadata": {},
   "source": [
    "# 2. Introduction to the Dataset"
   ]
  },
  {
   "cell_type": "markdown",
   "metadata": {},
   "source": [
    "Let's have a quick look to the Data Dictionary.\n",
    "\n",
    "|Variable |Definition|\tKey                                                     |\n",
    "|---------|---------------------------------------------------------------------|\n",
    "|survival |\tSurvival|\t0 = No, 1 = Yes                                         |\n",
    "|pclass\t |Ticket class\t|1 = 1st, 2 = 2nd, 3 = 3rd\n",
    "|sex\t |Sex | male, female\n",
    "|Age\t     |Age in years\t| numbers\n",
    "|sibsp\t |# of siblings / spouses| numbers\n",
    "|parch\t |# of parents / children| numbers\n",
    "|ticket\t |Ticket number\t| character\n",
    "|fare\t |Passenger fare\t| number\n",
    "|cabin\t |Cabin number\t| character\n",
    "|embarked |\tPort of Embarkation|\tC = Cherbourg, Q = Queenstown, S = Southampton\n",
    "\n",
    "A small note of the variables:\n",
    "\n",
    "\n",
    "> <b>pclass</b>: A proxy for socio-economic status (SES)\n",
    "1st = Upper\n",
    "2nd = Middle\n",
    "3rd = Lower\n",
    "\n",
    "> <b>age</b>: Age is fractional if less than 1. If the age is estimated, is it in the form of xx.5\n",
    "\n",
    "> <b>sibsp</b>: The dataset defines family relations in this way...\n",
    "Sibling = brother, sister, stepbrother, stepsister\n",
    "Spouse = husband, wife (mistresses and fiancés were ignored)\n",
    "\n",
    "> <b>parch</b>: The dataset defines family relations in this way...\n",
    "Parent = mother, father\n",
    "Child = daughter, son, stepdaughter, stepson\n",
    "\n",
    "Some children travelled only with a nanny, therefore parch = 0 for them.\n",
    "***"
   ]
  },
  {
   "cell_type": "markdown",
   "metadata": {},
   "source": [
    "# 3. Data Analysis"
   ]
  },
  {
   "cell_type": "markdown",
   "metadata": {},
   "source": [
    "So, now I'll analyze the data to find some interesting things. The phases will include:\n",
    "\n",
    "<ol>\n",
    "    <li>Questions, I want to answer!</li>\n",
    "    <li>Data Wrangling</li>\n",
    "        <ol type=\"a\">\n",
    "            <li>Data Acquisition</li>\n",
    "            <li>Data Cleaning</li>\n",
    "        </ol>\n",
    "        <br>\n",
    "    <li>Exploration</li>\n",
    "    <li>Conclusion</li>\n",
    "</ol>"
   ]
  },
  {
   "cell_type": "markdown",
   "metadata": {},
   "source": [
    "## 3.1 Questions, I want to answer!"
   ]
  },
  {
   "cell_type": "markdown",
   "metadata": {
    "collapsed": true
   },
   "source": [
    "There's a well know truth that Titanic did not have enough number of lifeboats present. Many people died due to die due to this fact alone. So, there's a kind of <b>preference</b> that must be observed during saving of life in this scenario. Can we find it with the survival stats? Here's a step by step approach I did to find the answer.\n",
    "\n",
    "\n",
    ">1. How passengers in the dataset are distributed in socio-economic class and fares?\n",
    "2. Survival rate on the basis of socio-economic class and fare.\n",
    "3. Survival rate on the basis of embarked ports and how class and fare is distributed for each port?\n",
    "4. People with family or without family - who have a better survival chance?\n",
    "5. How survival varied with gender?\n",
    "6. How survival varied with age?\n",
    "7. How class is distributed amongst various age groups?\n",
    "\n",
    "***"
   ]
  },
  {
   "cell_type": "markdown",
   "metadata": {},
   "source": [
    "## 3.2 Data Wrangling\n",
    "## 3.2.1 Data Acquisation"
   ]
  },
  {
   "cell_type": "code",
   "execution_count": 1,
   "metadata": {},
   "outputs": [
    {
     "data": {
      "text/html": [
       "<div>\n",
       "<style>\n",
       "    .dataframe thead tr:only-child th {\n",
       "        text-align: right;\n",
       "    }\n",
       "\n",
       "    .dataframe thead th {\n",
       "        text-align: left;\n",
       "    }\n",
       "\n",
       "    .dataframe tbody tr th {\n",
       "        vertical-align: top;\n",
       "    }\n",
       "</style>\n",
       "<table border=\"1\" class=\"dataframe\">\n",
       "  <thead>\n",
       "    <tr style=\"text-align: right;\">\n",
       "      <th></th>\n",
       "      <th>PassengerId</th>\n",
       "      <th>Survived</th>\n",
       "      <th>Pclass</th>\n",
       "      <th>Name</th>\n",
       "      <th>Sex</th>\n",
       "      <th>Age</th>\n",
       "      <th>SibSp</th>\n",
       "      <th>Parch</th>\n",
       "      <th>Ticket</th>\n",
       "      <th>Fare</th>\n",
       "      <th>Cabin</th>\n",
       "      <th>Embarked</th>\n",
       "    </tr>\n",
       "  </thead>\n",
       "  <tbody>\n",
       "    <tr>\n",
       "      <th>0</th>\n",
       "      <td>1</td>\n",
       "      <td>0</td>\n",
       "      <td>3</td>\n",
       "      <td>Braund, Mr. Owen Harris</td>\n",
       "      <td>male</td>\n",
       "      <td>22.0</td>\n",
       "      <td>1</td>\n",
       "      <td>0</td>\n",
       "      <td>A/5 21171</td>\n",
       "      <td>7.2500</td>\n",
       "      <td>NaN</td>\n",
       "      <td>S</td>\n",
       "    </tr>\n",
       "    <tr>\n",
       "      <th>1</th>\n",
       "      <td>2</td>\n",
       "      <td>1</td>\n",
       "      <td>1</td>\n",
       "      <td>Cumings, Mrs. John Bradley (Florence Briggs Th...</td>\n",
       "      <td>female</td>\n",
       "      <td>38.0</td>\n",
       "      <td>1</td>\n",
       "      <td>0</td>\n",
       "      <td>PC 17599</td>\n",
       "      <td>71.2833</td>\n",
       "      <td>C85</td>\n",
       "      <td>C</td>\n",
       "    </tr>\n",
       "    <tr>\n",
       "      <th>2</th>\n",
       "      <td>3</td>\n",
       "      <td>1</td>\n",
       "      <td>3</td>\n",
       "      <td>Heikkinen, Miss. Laina</td>\n",
       "      <td>female</td>\n",
       "      <td>26.0</td>\n",
       "      <td>0</td>\n",
       "      <td>0</td>\n",
       "      <td>STON/O2. 3101282</td>\n",
       "      <td>7.9250</td>\n",
       "      <td>NaN</td>\n",
       "      <td>S</td>\n",
       "    </tr>\n",
       "    <tr>\n",
       "      <th>3</th>\n",
       "      <td>4</td>\n",
       "      <td>1</td>\n",
       "      <td>1</td>\n",
       "      <td>Futrelle, Mrs. Jacques Heath (Lily May Peel)</td>\n",
       "      <td>female</td>\n",
       "      <td>35.0</td>\n",
       "      <td>1</td>\n",
       "      <td>0</td>\n",
       "      <td>113803</td>\n",
       "      <td>53.1000</td>\n",
       "      <td>C123</td>\n",
       "      <td>S</td>\n",
       "    </tr>\n",
       "    <tr>\n",
       "      <th>4</th>\n",
       "      <td>5</td>\n",
       "      <td>0</td>\n",
       "      <td>3</td>\n",
       "      <td>Allen, Mr. William Henry</td>\n",
       "      <td>male</td>\n",
       "      <td>35.0</td>\n",
       "      <td>0</td>\n",
       "      <td>0</td>\n",
       "      <td>373450</td>\n",
       "      <td>8.0500</td>\n",
       "      <td>NaN</td>\n",
       "      <td>S</td>\n",
       "    </tr>\n",
       "  </tbody>\n",
       "</table>\n",
       "</div>"
      ],
      "text/plain": [
       "   PassengerId  Survived  Pclass  \\\n",
       "0            1         0       3   \n",
       "1            2         1       1   \n",
       "2            3         1       3   \n",
       "3            4         1       1   \n",
       "4            5         0       3   \n",
       "\n",
       "                                                Name     Sex   Age  SibSp  \\\n",
       "0                            Braund, Mr. Owen Harris    male  22.0      1   \n",
       "1  Cumings, Mrs. John Bradley (Florence Briggs Th...  female  38.0      1   \n",
       "2                             Heikkinen, Miss. Laina  female  26.0      0   \n",
       "3       Futrelle, Mrs. Jacques Heath (Lily May Peel)  female  35.0      1   \n",
       "4                           Allen, Mr. William Henry    male  35.0      0   \n",
       "\n",
       "   Parch            Ticket     Fare Cabin Embarked  \n",
       "0      0         A/5 21171   7.2500   NaN        S  \n",
       "1      0          PC 17599  71.2833   C85        C  \n",
       "2      0  STON/O2. 3101282   7.9250   NaN        S  \n",
       "3      0            113803  53.1000  C123        S  \n",
       "4      0            373450   8.0500   NaN        S  "
      ]
     },
     "execution_count": 1,
     "metadata": {},
     "output_type": "execute_result"
    }
   ],
   "source": [
    "# reading the dataset and using basic pandas to see and analyze.\n",
    "import pandas as pd\n",
    "import numpy as np\n",
    "from matplotlib import pyplot as plt\n",
    "import seaborn as sns\n",
    "%matplotlib inline\n",
    "\n",
    "titanic_df = pd.read_csv(\"titanic-data.csv\")\n",
    "titanic_df.head()"
   ]
  },
  {
   "cell_type": "code",
   "execution_count": 2,
   "metadata": {},
   "outputs": [
    {
     "data": {
      "text/html": [
       "<div>\n",
       "<style>\n",
       "    .dataframe thead tr:only-child th {\n",
       "        text-align: right;\n",
       "    }\n",
       "\n",
       "    .dataframe thead th {\n",
       "        text-align: left;\n",
       "    }\n",
       "\n",
       "    .dataframe tbody tr th {\n",
       "        vertical-align: top;\n",
       "    }\n",
       "</style>\n",
       "<table border=\"1\" class=\"dataframe\">\n",
       "  <thead>\n",
       "    <tr style=\"text-align: right;\">\n",
       "      <th></th>\n",
       "      <th>PassengerId</th>\n",
       "      <th>Survived</th>\n",
       "      <th>Pclass</th>\n",
       "      <th>Age</th>\n",
       "      <th>SibSp</th>\n",
       "      <th>Parch</th>\n",
       "      <th>Fare</th>\n",
       "    </tr>\n",
       "  </thead>\n",
       "  <tbody>\n",
       "    <tr>\n",
       "      <th>count</th>\n",
       "      <td>891.000000</td>\n",
       "      <td>891.000000</td>\n",
       "      <td>891.000000</td>\n",
       "      <td>714.000000</td>\n",
       "      <td>891.000000</td>\n",
       "      <td>891.000000</td>\n",
       "      <td>891.000000</td>\n",
       "    </tr>\n",
       "    <tr>\n",
       "      <th>mean</th>\n",
       "      <td>446.000000</td>\n",
       "      <td>0.383838</td>\n",
       "      <td>2.308642</td>\n",
       "      <td>29.699118</td>\n",
       "      <td>0.523008</td>\n",
       "      <td>0.381594</td>\n",
       "      <td>32.204208</td>\n",
       "    </tr>\n",
       "    <tr>\n",
       "      <th>std</th>\n",
       "      <td>257.353842</td>\n",
       "      <td>0.486592</td>\n",
       "      <td>0.836071</td>\n",
       "      <td>14.526497</td>\n",
       "      <td>1.102743</td>\n",
       "      <td>0.806057</td>\n",
       "      <td>49.693429</td>\n",
       "    </tr>\n",
       "    <tr>\n",
       "      <th>min</th>\n",
       "      <td>1.000000</td>\n",
       "      <td>0.000000</td>\n",
       "      <td>1.000000</td>\n",
       "      <td>0.420000</td>\n",
       "      <td>0.000000</td>\n",
       "      <td>0.000000</td>\n",
       "      <td>0.000000</td>\n",
       "    </tr>\n",
       "    <tr>\n",
       "      <th>25%</th>\n",
       "      <td>223.500000</td>\n",
       "      <td>0.000000</td>\n",
       "      <td>2.000000</td>\n",
       "      <td>20.125000</td>\n",
       "      <td>0.000000</td>\n",
       "      <td>0.000000</td>\n",
       "      <td>7.910400</td>\n",
       "    </tr>\n",
       "    <tr>\n",
       "      <th>50%</th>\n",
       "      <td>446.000000</td>\n",
       "      <td>0.000000</td>\n",
       "      <td>3.000000</td>\n",
       "      <td>28.000000</td>\n",
       "      <td>0.000000</td>\n",
       "      <td>0.000000</td>\n",
       "      <td>14.454200</td>\n",
       "    </tr>\n",
       "    <tr>\n",
       "      <th>75%</th>\n",
       "      <td>668.500000</td>\n",
       "      <td>1.000000</td>\n",
       "      <td>3.000000</td>\n",
       "      <td>38.000000</td>\n",
       "      <td>1.000000</td>\n",
       "      <td>0.000000</td>\n",
       "      <td>31.000000</td>\n",
       "    </tr>\n",
       "    <tr>\n",
       "      <th>max</th>\n",
       "      <td>891.000000</td>\n",
       "      <td>1.000000</td>\n",
       "      <td>3.000000</td>\n",
       "      <td>80.000000</td>\n",
       "      <td>8.000000</td>\n",
       "      <td>6.000000</td>\n",
       "      <td>512.329200</td>\n",
       "    </tr>\n",
       "  </tbody>\n",
       "</table>\n",
       "</div>"
      ],
      "text/plain": [
       "       PassengerId    Survived      Pclass         Age       SibSp  \\\n",
       "count   891.000000  891.000000  891.000000  714.000000  891.000000   \n",
       "mean    446.000000    0.383838    2.308642   29.699118    0.523008   \n",
       "std     257.353842    0.486592    0.836071   14.526497    1.102743   \n",
       "min       1.000000    0.000000    1.000000    0.420000    0.000000   \n",
       "25%     223.500000    0.000000    2.000000   20.125000    0.000000   \n",
       "50%     446.000000    0.000000    3.000000   28.000000    0.000000   \n",
       "75%     668.500000    1.000000    3.000000   38.000000    1.000000   \n",
       "max     891.000000    1.000000    3.000000   80.000000    8.000000   \n",
       "\n",
       "            Parch        Fare  \n",
       "count  891.000000  891.000000  \n",
       "mean     0.381594   32.204208  \n",
       "std      0.806057   49.693429  \n",
       "min      0.000000    0.000000  \n",
       "25%      0.000000    7.910400  \n",
       "50%      0.000000   14.454200  \n",
       "75%      0.000000   31.000000  \n",
       "max      6.000000  512.329200  "
      ]
     },
     "execution_count": 2,
     "metadata": {},
     "output_type": "execute_result"
    }
   ],
   "source": [
    "titanic_df.describe()"
   ]
  },
  {
   "cell_type": "markdown",
   "metadata": {},
   "source": [
    "### Observations\n",
    "\n",
    "Some basic findings worth noting:\n",
    "\n",
    ">1. The survival rate of any passenger is 38%.\n",
    "2. Most people traveled is from the type II (middle) Socio-economic Status.\n",
    "3. The average age is 29 years.\n",
    "4. There is about 50% chance of having sibling/spouse/husband relationship.\n",
    "5. There is about 38% chance of having parent/child relationship.\n",
    "6. The average fare is 32.\n",
    "\n",
    "Some <b>errors</b> in the dataset are as follows:\n",
    ">1. Age has 714 entries. That means there are some empty entries.\n",
    "2. Minimum Fare is 0. Is that possible in an expensive ship like Titanic?"
   ]
  },
  {
   "cell_type": "markdown",
   "metadata": {},
   "source": [
    "## 3.2.2 Data Cleaning"
   ]
  },
  {
   "cell_type": "markdown",
   "metadata": {},
   "source": [
    "Now I am curoious to find which other non-numeric columns have NAN values in them."
   ]
  },
  {
   "cell_type": "code",
   "execution_count": 3,
   "metadata": {},
   "outputs": [
    {
     "name": "stdout",
     "output_type": "stream",
     "text": [
      "0\n",
      "0\n",
      "0\n",
      "687\n",
      "2\n"
     ]
    }
   ],
   "source": [
    "# finding NULL content in the non-numeric columns\n",
    "print titanic_df[\"Name\"][titanic_df[\"Name\"].isnull()].size\n",
    "print titanic_df[\"Sex\"][titanic_df[\"Sex\"].isnull()].size\n",
    "print titanic_df[\"Ticket\"][titanic_df[\"Ticket\"].isnull()].size\n",
    "print titanic_df[\"Cabin\"][titanic_df[\"Cabin\"].isnull()].size\n",
    "print titanic_df[\"Embarked\"][titanic_df[\"Embarked\"].isnull()].size"
   ]
  },
  {
   "cell_type": "markdown",
   "metadata": {
    "collapsed": true
   },
   "source": [
    "Now since we have found three columns with NAN, we have to decide what we can do with them. We have 2 options - <b>impute</b> them OR <b>delete</b> them. But, <b>deleting</b> will result in a <b>total loss</b> of data, whereas <b>imputing</b> will result in a <b>biasing</b> of data. \n",
    "\n",
    "Now we came upon this percentages,\n",
    "1. Column[\"Age\"] has 177 NAN out of 891 entries = 19.8%\n",
    "2. Column[\"Cabin\"] has 687 NAN out of 891 entries =  77.1%\n",
    "3. Column[\"Embarked\"] has 2 NAN out of 891 entries = 0.2%\n",
    "\n",
    "Now what we can do here in this case is impute the missing values. But we have not yet covered the process of doing so. So, we would rather drop the cabin have no significance.\n",
    "\n",
    "And I will just try to find the co-relations among the other variables without imputing as pandas simply don't take into account the missing values.\n",
    "\n",
    "Here are some columns and actions which we think should be applied on them.\n",
    "\n",
    ">1. <b>PassengerId</b> → seems <b>irrelevant</b>. So we consider <b>dropping</b> it.\n",
    "2. <b>Name</b> → We would rather try to <b>extract the salutation</b> and find some co-relations of survival with it. Then we can consider <b>dropping</b> it.\n",
    "1. <b>Age</b> → We keep the NaN values as it is, because the exact process and model for imputation is unknown.\n",
    "3. <b>SibSp & Parch</b> → We must <b>create a new column \"group\"</b> which holds how many family members the passenger boarded with.\n",
    "4. <b>Cabin</b> → We already discussed this column is not much useful with so many <b>missing values</b>. We will <b>drop</b> it. \n",
    "1. <b>Embarked</b> → Keep it as it is. "
   ]
  },
  {
   "cell_type": "markdown",
   "metadata": {},
   "source": [
    "Creating and filling the columns called \"Salutation\" and \"Groups\".\n",
    "\n",
    "We can observe from the above description that a name like [Braund, Mr. Owen Harris] → [Surname, Salutation, First name, Second Name], which implies the second word is salutation."
   ]
  },
  {
   "cell_type": "code",
   "execution_count": 4,
   "metadata": {
    "collapsed": true,
    "scrolled": true
   },
   "outputs": [],
   "source": [
    "# filling the new column named \"Salutation\" with the second part of the name\n",
    "titanic_df[\"Salutation\"] = titanic_df[\"Name\"].str.split(\" \").str[1]\n",
    "titanic_df[\"Group\"] = titanic_df[\"SibSp\"] + titanic_df[\"Parch\"]"
   ]
  },
  {
   "cell_type": "markdown",
   "metadata": {},
   "source": [
    "We can now see, how many \"Salutation\"s we have."
   ]
  },
  {
   "cell_type": "code",
   "execution_count": 5,
   "metadata": {
    "scrolled": false
   },
   "outputs": [
    {
     "data": {
      "text/html": [
       "<div>\n",
       "<style>\n",
       "    .dataframe thead tr:only-child th {\n",
       "        text-align: right;\n",
       "    }\n",
       "\n",
       "    .dataframe thead th {\n",
       "        text-align: left;\n",
       "    }\n",
       "\n",
       "    .dataframe tbody tr th {\n",
       "        vertical-align: top;\n",
       "    }\n",
       "</style>\n",
       "<table border=\"1\" class=\"dataframe\">\n",
       "  <thead>\n",
       "    <tr style=\"text-align: right;\">\n",
       "      <th></th>\n",
       "      <th>PassengerId</th>\n",
       "      <th>Survived</th>\n",
       "      <th>Pclass</th>\n",
       "      <th>Name</th>\n",
       "      <th>Sex</th>\n",
       "      <th>Age</th>\n",
       "      <th>SibSp</th>\n",
       "      <th>Parch</th>\n",
       "      <th>Ticket</th>\n",
       "      <th>Fare</th>\n",
       "      <th>Cabin</th>\n",
       "      <th>Embarked</th>\n",
       "      <th>Group</th>\n",
       "    </tr>\n",
       "    <tr>\n",
       "      <th>Salutation</th>\n",
       "      <th></th>\n",
       "      <th></th>\n",
       "      <th></th>\n",
       "      <th></th>\n",
       "      <th></th>\n",
       "      <th></th>\n",
       "      <th></th>\n",
       "      <th></th>\n",
       "      <th></th>\n",
       "      <th></th>\n",
       "      <th></th>\n",
       "      <th></th>\n",
       "      <th></th>\n",
       "    </tr>\n",
       "  </thead>\n",
       "  <tbody>\n",
       "    <tr>\n",
       "      <th>Billiard,</th>\n",
       "      <td>1</td>\n",
       "      <td>1</td>\n",
       "      <td>1</td>\n",
       "      <td>1</td>\n",
       "      <td>1</td>\n",
       "      <td>1</td>\n",
       "      <td>1</td>\n",
       "      <td>1</td>\n",
       "      <td>1</td>\n",
       "      <td>1</td>\n",
       "      <td>0</td>\n",
       "      <td>1</td>\n",
       "      <td>1</td>\n",
       "    </tr>\n",
       "    <tr>\n",
       "      <th>Capt.</th>\n",
       "      <td>1</td>\n",
       "      <td>1</td>\n",
       "      <td>1</td>\n",
       "      <td>1</td>\n",
       "      <td>1</td>\n",
       "      <td>1</td>\n",
       "      <td>1</td>\n",
       "      <td>1</td>\n",
       "      <td>1</td>\n",
       "      <td>1</td>\n",
       "      <td>1</td>\n",
       "      <td>1</td>\n",
       "      <td>1</td>\n",
       "    </tr>\n",
       "    <tr>\n",
       "      <th>Carlo,</th>\n",
       "      <td>1</td>\n",
       "      <td>1</td>\n",
       "      <td>1</td>\n",
       "      <td>1</td>\n",
       "      <td>1</td>\n",
       "      <td>1</td>\n",
       "      <td>1</td>\n",
       "      <td>1</td>\n",
       "      <td>1</td>\n",
       "      <td>1</td>\n",
       "      <td>0</td>\n",
       "      <td>1</td>\n",
       "      <td>1</td>\n",
       "    </tr>\n",
       "    <tr>\n",
       "      <th>Col.</th>\n",
       "      <td>2</td>\n",
       "      <td>2</td>\n",
       "      <td>2</td>\n",
       "      <td>2</td>\n",
       "      <td>2</td>\n",
       "      <td>2</td>\n",
       "      <td>2</td>\n",
       "      <td>2</td>\n",
       "      <td>2</td>\n",
       "      <td>2</td>\n",
       "      <td>1</td>\n",
       "      <td>2</td>\n",
       "      <td>2</td>\n",
       "    </tr>\n",
       "    <tr>\n",
       "      <th>Cruyssen,</th>\n",
       "      <td>1</td>\n",
       "      <td>1</td>\n",
       "      <td>1</td>\n",
       "      <td>1</td>\n",
       "      <td>1</td>\n",
       "      <td>1</td>\n",
       "      <td>1</td>\n",
       "      <td>1</td>\n",
       "      <td>1</td>\n",
       "      <td>1</td>\n",
       "      <td>0</td>\n",
       "      <td>1</td>\n",
       "      <td>1</td>\n",
       "    </tr>\n",
       "    <tr>\n",
       "      <th>Don.</th>\n",
       "      <td>1</td>\n",
       "      <td>1</td>\n",
       "      <td>1</td>\n",
       "      <td>1</td>\n",
       "      <td>1</td>\n",
       "      <td>1</td>\n",
       "      <td>1</td>\n",
       "      <td>1</td>\n",
       "      <td>1</td>\n",
       "      <td>1</td>\n",
       "      <td>0</td>\n",
       "      <td>1</td>\n",
       "      <td>1</td>\n",
       "    </tr>\n",
       "    <tr>\n",
       "      <th>Dr.</th>\n",
       "      <td>7</td>\n",
       "      <td>7</td>\n",
       "      <td>7</td>\n",
       "      <td>7</td>\n",
       "      <td>7</td>\n",
       "      <td>6</td>\n",
       "      <td>7</td>\n",
       "      <td>7</td>\n",
       "      <td>7</td>\n",
       "      <td>7</td>\n",
       "      <td>3</td>\n",
       "      <td>7</td>\n",
       "      <td>7</td>\n",
       "    </tr>\n",
       "    <tr>\n",
       "      <th>Gordon,</th>\n",
       "      <td>2</td>\n",
       "      <td>2</td>\n",
       "      <td>2</td>\n",
       "      <td>2</td>\n",
       "      <td>2</td>\n",
       "      <td>2</td>\n",
       "      <td>2</td>\n",
       "      <td>2</td>\n",
       "      <td>2</td>\n",
       "      <td>2</td>\n",
       "      <td>2</td>\n",
       "      <td>2</td>\n",
       "      <td>2</td>\n",
       "    </tr>\n",
       "    <tr>\n",
       "      <th>Impe,</th>\n",
       "      <td>3</td>\n",
       "      <td>3</td>\n",
       "      <td>3</td>\n",
       "      <td>3</td>\n",
       "      <td>3</td>\n",
       "      <td>3</td>\n",
       "      <td>3</td>\n",
       "      <td>3</td>\n",
       "      <td>3</td>\n",
       "      <td>3</td>\n",
       "      <td>0</td>\n",
       "      <td>3</td>\n",
       "      <td>3</td>\n",
       "    </tr>\n",
       "    <tr>\n",
       "      <th>Jonkheer.</th>\n",
       "      <td>1</td>\n",
       "      <td>1</td>\n",
       "      <td>1</td>\n",
       "      <td>1</td>\n",
       "      <td>1</td>\n",
       "      <td>1</td>\n",
       "      <td>1</td>\n",
       "      <td>1</td>\n",
       "      <td>1</td>\n",
       "      <td>1</td>\n",
       "      <td>0</td>\n",
       "      <td>1</td>\n",
       "      <td>1</td>\n",
       "    </tr>\n",
       "    <tr>\n",
       "      <th>Major.</th>\n",
       "      <td>2</td>\n",
       "      <td>2</td>\n",
       "      <td>2</td>\n",
       "      <td>2</td>\n",
       "      <td>2</td>\n",
       "      <td>2</td>\n",
       "      <td>2</td>\n",
       "      <td>2</td>\n",
       "      <td>2</td>\n",
       "      <td>2</td>\n",
       "      <td>2</td>\n",
       "      <td>2</td>\n",
       "      <td>2</td>\n",
       "    </tr>\n",
       "    <tr>\n",
       "      <th>Master.</th>\n",
       "      <td>40</td>\n",
       "      <td>40</td>\n",
       "      <td>40</td>\n",
       "      <td>40</td>\n",
       "      <td>40</td>\n",
       "      <td>36</td>\n",
       "      <td>40</td>\n",
       "      <td>40</td>\n",
       "      <td>40</td>\n",
       "      <td>40</td>\n",
       "      <td>7</td>\n",
       "      <td>40</td>\n",
       "      <td>40</td>\n",
       "    </tr>\n",
       "    <tr>\n",
       "      <th>Melkebeke,</th>\n",
       "      <td>1</td>\n",
       "      <td>1</td>\n",
       "      <td>1</td>\n",
       "      <td>1</td>\n",
       "      <td>1</td>\n",
       "      <td>0</td>\n",
       "      <td>1</td>\n",
       "      <td>1</td>\n",
       "      <td>1</td>\n",
       "      <td>1</td>\n",
       "      <td>0</td>\n",
       "      <td>1</td>\n",
       "      <td>1</td>\n",
       "    </tr>\n",
       "    <tr>\n",
       "      <th>Messemaeker,</th>\n",
       "      <td>1</td>\n",
       "      <td>1</td>\n",
       "      <td>1</td>\n",
       "      <td>1</td>\n",
       "      <td>1</td>\n",
       "      <td>1</td>\n",
       "      <td>1</td>\n",
       "      <td>1</td>\n",
       "      <td>1</td>\n",
       "      <td>1</td>\n",
       "      <td>0</td>\n",
       "      <td>1</td>\n",
       "      <td>1</td>\n",
       "    </tr>\n",
       "    <tr>\n",
       "      <th>Miss.</th>\n",
       "      <td>179</td>\n",
       "      <td>179</td>\n",
       "      <td>179</td>\n",
       "      <td>179</td>\n",
       "      <td>179</td>\n",
       "      <td>143</td>\n",
       "      <td>179</td>\n",
       "      <td>179</td>\n",
       "      <td>179</td>\n",
       "      <td>179</td>\n",
       "      <td>47</td>\n",
       "      <td>178</td>\n",
       "      <td>179</td>\n",
       "    </tr>\n",
       "    <tr>\n",
       "      <th>Mlle.</th>\n",
       "      <td>2</td>\n",
       "      <td>2</td>\n",
       "      <td>2</td>\n",
       "      <td>2</td>\n",
       "      <td>2</td>\n",
       "      <td>2</td>\n",
       "      <td>2</td>\n",
       "      <td>2</td>\n",
       "      <td>2</td>\n",
       "      <td>2</td>\n",
       "      <td>2</td>\n",
       "      <td>2</td>\n",
       "      <td>2</td>\n",
       "    </tr>\n",
       "    <tr>\n",
       "      <th>Mme.</th>\n",
       "      <td>1</td>\n",
       "      <td>1</td>\n",
       "      <td>1</td>\n",
       "      <td>1</td>\n",
       "      <td>1</td>\n",
       "      <td>1</td>\n",
       "      <td>1</td>\n",
       "      <td>1</td>\n",
       "      <td>1</td>\n",
       "      <td>1</td>\n",
       "      <td>1</td>\n",
       "      <td>1</td>\n",
       "      <td>1</td>\n",
       "    </tr>\n",
       "    <tr>\n",
       "      <th>Mr.</th>\n",
       "      <td>502</td>\n",
       "      <td>502</td>\n",
       "      <td>502</td>\n",
       "      <td>502</td>\n",
       "      <td>502</td>\n",
       "      <td>385</td>\n",
       "      <td>502</td>\n",
       "      <td>502</td>\n",
       "      <td>502</td>\n",
       "      <td>502</td>\n",
       "      <td>91</td>\n",
       "      <td>502</td>\n",
       "      <td>502</td>\n",
       "    </tr>\n",
       "    <tr>\n",
       "      <th>Mrs.</th>\n",
       "      <td>121</td>\n",
       "      <td>121</td>\n",
       "      <td>121</td>\n",
       "      <td>121</td>\n",
       "      <td>121</td>\n",
       "      <td>104</td>\n",
       "      <td>121</td>\n",
       "      <td>121</td>\n",
       "      <td>121</td>\n",
       "      <td>121</td>\n",
       "      <td>43</td>\n",
       "      <td>120</td>\n",
       "      <td>121</td>\n",
       "    </tr>\n",
       "    <tr>\n",
       "      <th>Ms.</th>\n",
       "      <td>1</td>\n",
       "      <td>1</td>\n",
       "      <td>1</td>\n",
       "      <td>1</td>\n",
       "      <td>1</td>\n",
       "      <td>1</td>\n",
       "      <td>1</td>\n",
       "      <td>1</td>\n",
       "      <td>1</td>\n",
       "      <td>1</td>\n",
       "      <td>0</td>\n",
       "      <td>1</td>\n",
       "      <td>1</td>\n",
       "    </tr>\n",
       "    <tr>\n",
       "      <th>Mulder,</th>\n",
       "      <td>1</td>\n",
       "      <td>1</td>\n",
       "      <td>1</td>\n",
       "      <td>1</td>\n",
       "      <td>1</td>\n",
       "      <td>1</td>\n",
       "      <td>1</td>\n",
       "      <td>1</td>\n",
       "      <td>1</td>\n",
       "      <td>1</td>\n",
       "      <td>0</td>\n",
       "      <td>1</td>\n",
       "      <td>1</td>\n",
       "    </tr>\n",
       "    <tr>\n",
       "      <th>Pelsmaeker,</th>\n",
       "      <td>1</td>\n",
       "      <td>1</td>\n",
       "      <td>1</td>\n",
       "      <td>1</td>\n",
       "      <td>1</td>\n",
       "      <td>1</td>\n",
       "      <td>1</td>\n",
       "      <td>1</td>\n",
       "      <td>1</td>\n",
       "      <td>1</td>\n",
       "      <td>0</td>\n",
       "      <td>1</td>\n",
       "      <td>1</td>\n",
       "    </tr>\n",
       "    <tr>\n",
       "      <th>Planke,</th>\n",
       "      <td>3</td>\n",
       "      <td>3</td>\n",
       "      <td>3</td>\n",
       "      <td>3</td>\n",
       "      <td>3</td>\n",
       "      <td>3</td>\n",
       "      <td>3</td>\n",
       "      <td>3</td>\n",
       "      <td>3</td>\n",
       "      <td>3</td>\n",
       "      <td>0</td>\n",
       "      <td>3</td>\n",
       "      <td>3</td>\n",
       "    </tr>\n",
       "    <tr>\n",
       "      <th>Rev.</th>\n",
       "      <td>6</td>\n",
       "      <td>6</td>\n",
       "      <td>6</td>\n",
       "      <td>6</td>\n",
       "      <td>6</td>\n",
       "      <td>6</td>\n",
       "      <td>6</td>\n",
       "      <td>6</td>\n",
       "      <td>6</td>\n",
       "      <td>6</td>\n",
       "      <td>0</td>\n",
       "      <td>6</td>\n",
       "      <td>6</td>\n",
       "    </tr>\n",
       "    <tr>\n",
       "      <th>Shawah,</th>\n",
       "      <td>1</td>\n",
       "      <td>1</td>\n",
       "      <td>1</td>\n",
       "      <td>1</td>\n",
       "      <td>1</td>\n",
       "      <td>1</td>\n",
       "      <td>1</td>\n",
       "      <td>1</td>\n",
       "      <td>1</td>\n",
       "      <td>1</td>\n",
       "      <td>0</td>\n",
       "      <td>1</td>\n",
       "      <td>1</td>\n",
       "    </tr>\n",
       "    <tr>\n",
       "      <th>Steen,</th>\n",
       "      <td>1</td>\n",
       "      <td>1</td>\n",
       "      <td>1</td>\n",
       "      <td>1</td>\n",
       "      <td>1</td>\n",
       "      <td>1</td>\n",
       "      <td>1</td>\n",
       "      <td>1</td>\n",
       "      <td>1</td>\n",
       "      <td>1</td>\n",
       "      <td>0</td>\n",
       "      <td>1</td>\n",
       "      <td>1</td>\n",
       "    </tr>\n",
       "    <tr>\n",
       "      <th>Velde,</th>\n",
       "      <td>1</td>\n",
       "      <td>1</td>\n",
       "      <td>1</td>\n",
       "      <td>1</td>\n",
       "      <td>1</td>\n",
       "      <td>1</td>\n",
       "      <td>1</td>\n",
       "      <td>1</td>\n",
       "      <td>1</td>\n",
       "      <td>1</td>\n",
       "      <td>0</td>\n",
       "      <td>1</td>\n",
       "      <td>1</td>\n",
       "    </tr>\n",
       "    <tr>\n",
       "      <th>Walle,</th>\n",
       "      <td>1</td>\n",
       "      <td>1</td>\n",
       "      <td>1</td>\n",
       "      <td>1</td>\n",
       "      <td>1</td>\n",
       "      <td>1</td>\n",
       "      <td>1</td>\n",
       "      <td>1</td>\n",
       "      <td>1</td>\n",
       "      <td>1</td>\n",
       "      <td>0</td>\n",
       "      <td>1</td>\n",
       "      <td>1</td>\n",
       "    </tr>\n",
       "    <tr>\n",
       "      <th>der</th>\n",
       "      <td>1</td>\n",
       "      <td>1</td>\n",
       "      <td>1</td>\n",
       "      <td>1</td>\n",
       "      <td>1</td>\n",
       "      <td>1</td>\n",
       "      <td>1</td>\n",
       "      <td>1</td>\n",
       "      <td>1</td>\n",
       "      <td>1</td>\n",
       "      <td>1</td>\n",
       "      <td>1</td>\n",
       "      <td>1</td>\n",
       "    </tr>\n",
       "    <tr>\n",
       "      <th>the</th>\n",
       "      <td>1</td>\n",
       "      <td>1</td>\n",
       "      <td>1</td>\n",
       "      <td>1</td>\n",
       "      <td>1</td>\n",
       "      <td>1</td>\n",
       "      <td>1</td>\n",
       "      <td>1</td>\n",
       "      <td>1</td>\n",
       "      <td>1</td>\n",
       "      <td>1</td>\n",
       "      <td>1</td>\n",
       "      <td>1</td>\n",
       "    </tr>\n",
       "    <tr>\n",
       "      <th>y</th>\n",
       "      <td>4</td>\n",
       "      <td>4</td>\n",
       "      <td>4</td>\n",
       "      <td>4</td>\n",
       "      <td>4</td>\n",
       "      <td>3</td>\n",
       "      <td>4</td>\n",
       "      <td>4</td>\n",
       "      <td>4</td>\n",
       "      <td>4</td>\n",
       "      <td>2</td>\n",
       "      <td>4</td>\n",
       "      <td>4</td>\n",
       "    </tr>\n",
       "  </tbody>\n",
       "</table>\n",
       "</div>"
      ],
      "text/plain": [
       "              PassengerId  Survived  Pclass  Name  Sex  Age  SibSp  Parch  \\\n",
       "Salutation                                                                  \n",
       "Billiard,               1         1       1     1    1    1      1      1   \n",
       "Capt.                   1         1       1     1    1    1      1      1   \n",
       "Carlo,                  1         1       1     1    1    1      1      1   \n",
       "Col.                    2         2       2     2    2    2      2      2   \n",
       "Cruyssen,               1         1       1     1    1    1      1      1   \n",
       "Don.                    1         1       1     1    1    1      1      1   \n",
       "Dr.                     7         7       7     7    7    6      7      7   \n",
       "Gordon,                 2         2       2     2    2    2      2      2   \n",
       "Impe,                   3         3       3     3    3    3      3      3   \n",
       "Jonkheer.               1         1       1     1    1    1      1      1   \n",
       "Major.                  2         2       2     2    2    2      2      2   \n",
       "Master.                40        40      40    40   40   36     40     40   \n",
       "Melkebeke,              1         1       1     1    1    0      1      1   \n",
       "Messemaeker,            1         1       1     1    1    1      1      1   \n",
       "Miss.                 179       179     179   179  179  143    179    179   \n",
       "Mlle.                   2         2       2     2    2    2      2      2   \n",
       "Mme.                    1         1       1     1    1    1      1      1   \n",
       "Mr.                   502       502     502   502  502  385    502    502   \n",
       "Mrs.                  121       121     121   121  121  104    121    121   \n",
       "Ms.                     1         1       1     1    1    1      1      1   \n",
       "Mulder,                 1         1       1     1    1    1      1      1   \n",
       "Pelsmaeker,             1         1       1     1    1    1      1      1   \n",
       "Planke,                 3         3       3     3    3    3      3      3   \n",
       "Rev.                    6         6       6     6    6    6      6      6   \n",
       "Shawah,                 1         1       1     1    1    1      1      1   \n",
       "Steen,                  1         1       1     1    1    1      1      1   \n",
       "Velde,                  1         1       1     1    1    1      1      1   \n",
       "Walle,                  1         1       1     1    1    1      1      1   \n",
       "der                     1         1       1     1    1    1      1      1   \n",
       "the                     1         1       1     1    1    1      1      1   \n",
       "y                       4         4       4     4    4    3      4      4   \n",
       "\n",
       "              Ticket  Fare  Cabin  Embarked  Group  \n",
       "Salutation                                          \n",
       "Billiard,          1     1      0         1      1  \n",
       "Capt.              1     1      1         1      1  \n",
       "Carlo,             1     1      0         1      1  \n",
       "Col.               2     2      1         2      2  \n",
       "Cruyssen,          1     1      0         1      1  \n",
       "Don.               1     1      0         1      1  \n",
       "Dr.                7     7      3         7      7  \n",
       "Gordon,            2     2      2         2      2  \n",
       "Impe,              3     3      0         3      3  \n",
       "Jonkheer.          1     1      0         1      1  \n",
       "Major.             2     2      2         2      2  \n",
       "Master.           40    40      7        40     40  \n",
       "Melkebeke,         1     1      0         1      1  \n",
       "Messemaeker,       1     1      0         1      1  \n",
       "Miss.            179   179     47       178    179  \n",
       "Mlle.              2     2      2         2      2  \n",
       "Mme.               1     1      1         1      1  \n",
       "Mr.              502   502     91       502    502  \n",
       "Mrs.             121   121     43       120    121  \n",
       "Ms.                1     1      0         1      1  \n",
       "Mulder,            1     1      0         1      1  \n",
       "Pelsmaeker,        1     1      0         1      1  \n",
       "Planke,            3     3      0         3      3  \n",
       "Rev.               6     6      0         6      6  \n",
       "Shawah,            1     1      0         1      1  \n",
       "Steen,             1     1      0         1      1  \n",
       "Velde,             1     1      0         1      1  \n",
       "Walle,             1     1      0         1      1  \n",
       "der                1     1      1         1      1  \n",
       "the                1     1      1         1      1  \n",
       "y                  4     4      2         4      4  "
      ]
     },
     "execution_count": 5,
     "metadata": {},
     "output_type": "execute_result"
    }
   ],
   "source": [
    "# printing the \"Salutation\" column\n",
    "titanic_df.groupby(\"Salutation\").count()"
   ]
  },
  {
   "cell_type": "markdown",
   "metadata": {},
   "source": [
    "We have some Salutations like \"y\", \"the\", \"der\" etc which we have never heard of and they also makes no sense.\n",
    "\n",
    ">So, we may conclude to <b>delete</b> \"Salutation\" also."
   ]
  },
  {
   "cell_type": "code",
   "execution_count": 6,
   "metadata": {
    "collapsed": true
   },
   "outputs": [],
   "source": [
    "# Dropping PassengerId, Name, Salutation, Cabin\n",
    "titanic_df = titanic_df.drop(\"PassengerId\", 1)\n",
    "titanic_df = titanic_df.drop(\"Name\", 1)\n",
    "titanic_df = titanic_df.drop(\"Salutation\", 1)\n",
    "titanic_df = titanic_df.drop(\"Cabin\", 1)"
   ]
  },
  {
   "cell_type": "code",
   "execution_count": 7,
   "metadata": {
    "scrolled": true
   },
   "outputs": [
    {
     "data": {
      "text/html": [
       "<div>\n",
       "<style>\n",
       "    .dataframe thead tr:only-child th {\n",
       "        text-align: right;\n",
       "    }\n",
       "\n",
       "    .dataframe thead th {\n",
       "        text-align: left;\n",
       "    }\n",
       "\n",
       "    .dataframe tbody tr th {\n",
       "        vertical-align: top;\n",
       "    }\n",
       "</style>\n",
       "<table border=\"1\" class=\"dataframe\">\n",
       "  <thead>\n",
       "    <tr style=\"text-align: right;\">\n",
       "      <th></th>\n",
       "      <th>Survived</th>\n",
       "      <th>Pclass</th>\n",
       "      <th>Sex</th>\n",
       "      <th>Age</th>\n",
       "      <th>SibSp</th>\n",
       "      <th>Parch</th>\n",
       "      <th>Ticket</th>\n",
       "      <th>Fare</th>\n",
       "      <th>Embarked</th>\n",
       "      <th>Group</th>\n",
       "    </tr>\n",
       "  </thead>\n",
       "  <tbody>\n",
       "    <tr>\n",
       "      <th>0</th>\n",
       "      <td>0</td>\n",
       "      <td>3</td>\n",
       "      <td>male</td>\n",
       "      <td>22.0</td>\n",
       "      <td>1</td>\n",
       "      <td>0</td>\n",
       "      <td>A/5 21171</td>\n",
       "      <td>7.2500</td>\n",
       "      <td>S</td>\n",
       "      <td>1</td>\n",
       "    </tr>\n",
       "    <tr>\n",
       "      <th>1</th>\n",
       "      <td>1</td>\n",
       "      <td>1</td>\n",
       "      <td>female</td>\n",
       "      <td>38.0</td>\n",
       "      <td>1</td>\n",
       "      <td>0</td>\n",
       "      <td>PC 17599</td>\n",
       "      <td>71.2833</td>\n",
       "      <td>C</td>\n",
       "      <td>1</td>\n",
       "    </tr>\n",
       "    <tr>\n",
       "      <th>2</th>\n",
       "      <td>1</td>\n",
       "      <td>3</td>\n",
       "      <td>female</td>\n",
       "      <td>26.0</td>\n",
       "      <td>0</td>\n",
       "      <td>0</td>\n",
       "      <td>STON/O2. 3101282</td>\n",
       "      <td>7.9250</td>\n",
       "      <td>S</td>\n",
       "      <td>0</td>\n",
       "    </tr>\n",
       "    <tr>\n",
       "      <th>3</th>\n",
       "      <td>1</td>\n",
       "      <td>1</td>\n",
       "      <td>female</td>\n",
       "      <td>35.0</td>\n",
       "      <td>1</td>\n",
       "      <td>0</td>\n",
       "      <td>113803</td>\n",
       "      <td>53.1000</td>\n",
       "      <td>S</td>\n",
       "      <td>1</td>\n",
       "    </tr>\n",
       "    <tr>\n",
       "      <th>4</th>\n",
       "      <td>0</td>\n",
       "      <td>3</td>\n",
       "      <td>male</td>\n",
       "      <td>35.0</td>\n",
       "      <td>0</td>\n",
       "      <td>0</td>\n",
       "      <td>373450</td>\n",
       "      <td>8.0500</td>\n",
       "      <td>S</td>\n",
       "      <td>0</td>\n",
       "    </tr>\n",
       "  </tbody>\n",
       "</table>\n",
       "</div>"
      ],
      "text/plain": [
       "   Survived  Pclass     Sex   Age  SibSp  Parch            Ticket     Fare  \\\n",
       "0         0       3    male  22.0      1      0         A/5 21171   7.2500   \n",
       "1         1       1  female  38.0      1      0          PC 17599  71.2833   \n",
       "2         1       3  female  26.0      0      0  STON/O2. 3101282   7.9250   \n",
       "3         1       1  female  35.0      1      0            113803  53.1000   \n",
       "4         0       3    male  35.0      0      0            373450   8.0500   \n",
       "\n",
       "  Embarked  Group  \n",
       "0        S      1  \n",
       "1        C      1  \n",
       "2        S      0  \n",
       "3        S      1  \n",
       "4        S      0  "
      ]
     },
     "execution_count": 7,
     "metadata": {},
     "output_type": "execute_result"
    }
   ],
   "source": [
    "# seeing the new modified DataFrame\n",
    "titanic_df.head()"
   ]
  },
  {
   "cell_type": "markdown",
   "metadata": {},
   "source": [
    "Now, we have fixed all the NAN-filled columns. Our next thing to check is if all the cells have a clear meaning of minimum values. (Ex: Age = 0, Fare = 0 will have no meaning). We have already found FARE to be one of them. So, just checking them before moving to the next analysis."
   ]
  },
  {
   "cell_type": "code",
   "execution_count": 8,
   "metadata": {},
   "outputs": [
    {
     "data": {
      "text/plain": [
       "15"
      ]
     },
     "execution_count": 8,
     "metadata": {},
     "output_type": "execute_result"
    }
   ],
   "source": [
    "# checking how many values in Fare is equal to 0\n",
    "titanic_df[\"Fare\"][titanic_df[\"Fare\"] == 0].size"
   ]
  },
  {
   "cell_type": "markdown",
   "metadata": {},
   "source": [
    "So, we have 15 fares with 0\\$, which seems quite impossible in a costly ship like Titanic. But the models of imputing with either mean-median-mode does not seem promising. We also know that pandas, when generating statistics from variables that have missing data, will omit the rows with missing data. So, skipping it.\n",
    "\n",
    "***"
   ]
  },
  {
   "cell_type": "markdown",
   "metadata": {},
   "source": [
    "## 3.3 Data Exploration"
   ]
  },
  {
   "cell_type": "markdown",
   "metadata": {},
   "source": [
    "### 3.3.1 How socio-economic class is distributed in the total dataset.\n",
    "\n",
    "The main idea is to find how many people belonged to which class in the RMS Titanic."
   ]
  },
  {
   "cell_type": "code",
   "execution_count": 9,
   "metadata": {
    "scrolled": false
   },
   "outputs": [
    {
     "data": {
      "text/plain": [
       "<matplotlib.text.Text at 0x7f0286946310>"
      ]
     },
     "execution_count": 9,
     "metadata": {},
     "output_type": "execute_result"
    },
    {
     "data": {
      "image/png": "[encoded data removed]",
      "text/plain": [
       "<matplotlib.figure.Figure at 0x7f0286a6ebd0>"
      ]
     },
     "metadata": {},
     "output_type": "display_data"
    }
   ],
   "source": [
    "# getting total number of records with class as 1, 2 and 3\n",
    "class1 = titanic_df[\"Pclass\"][titanic_df[\"Pclass\"]==1].size\n",
    "class2 = titanic_df[\"Pclass\"][titanic_df[\"Pclass\"]==2].size\n",
    "class3 = titanic_df[\"Pclass\"][titanic_df[\"Pclass\"]==3].size\n",
    "\n",
    "# plotting the distribution of three classes 1, 2 and 3\n",
    "plt.figure(1, figsize=(6,6))\n",
    "ax = plt.axes([0.1, 0.1, 0.8, 0.8])\n",
    "plt.pie([class1, class2, class3], labels=[\"Class 1\", \"Class 2\", \"Class 3\"], autopct='%1.1f%%')\n",
    "plt.title(\"Fig 1. Distribution of various Socio-Economic Classes\")"
   ]
  },
  {
   "cell_type": "markdown",
   "metadata": {},
   "source": [
    "### Observation\n",
    "\n",
    ">The RMS Titanic had maximum passengers from the socio-economic class 3, followed by socio-economic class 2 and class 1.\n",
    "\n",
    "***"
   ]
  },
  {
   "cell_type": "markdown",
   "metadata": {
    "collapsed": true
   },
   "source": [
    "### 3.3.2 How is Fare related to various Socio-economic Class?\n",
    "\n",
    "We try to explore the <b>notion</b> - \"People from higher socio-economic class will buy tickets of higher price\"."
   ]
  },
  {
   "cell_type": "code",
   "execution_count": 10,
   "metadata": {},
   "outputs": [
    {
     "name": "stdout",
     "output_type": "stream",
     "text": [
      "Pclass\n",
      "1     5.0000\n",
      "2    10.5000\n",
      "3     4.0125\n",
      "Name: Fare, dtype: float64\n",
      "Pclass\n",
      "1    512.3292\n",
      "2     73.5000\n",
      "3     69.5500\n",
      "Name: Fare, dtype: float64\n",
      "Pclass\n",
      "1    86.148874\n",
      "2    21.358661\n",
      "3    13.787875\n",
      "Name: Fare, dtype: float64\n"
     ]
    }
   ],
   "source": [
    "# trying to find if there's a margin of ticket fare of the 3 classes \n",
    "print titanic_df[titanic_df[\"Fare\"] != 0].groupby(\"Pclass\")[\"Fare\"].min()\n",
    "print titanic_df[titanic_df[\"Fare\"] != 0].groupby(\"Pclass\")[\"Fare\"].max()\n",
    "print titanic_df[titanic_df[\"Fare\"] != 0].groupby(\"Pclass\")[\"Fare\"].mean()"
   ]
  },
  {
   "cell_type": "markdown",
   "metadata": {},
   "source": [
    "So, we can see that \"Passenger Class\" is <b>not dependent</b> on the \"Fare\" of the ticket he has bought. 1st class passenger is buying a ticket of 5\\$ which is way less than the mean fare (86\\$) of 1st class. Also such intermixing can be seen from the above statistics. We may <b>plot</b> a graph to see the intermixing."
   ]
  },
  {
   "cell_type": "code",
   "execution_count": 11,
   "metadata": {},
   "outputs": [
    {
     "data": {
      "image/png": "[encoded data removed]",
      "text/plain": [
       "<matplotlib.figure.Figure at 0x7f0286a188d0>"
      ]
     },
     "metadata": {},
     "output_type": "display_data"
    }
   ],
   "source": [
    "# plotting the distribution of classes in various ticket fare ranges\n",
    "ax = titanic_df.groupby([pd.cut(titanic_df[\"Fare\"], np.arange(0, 551, 50)), \"Pclass\"])[\"Survived\"].count().groupby(level = 0).transform(lambda x: 100*x/sum(x)).unstack().plot(kind = 'bar')\n",
    "ax.set_xlabel(\"Fares\")\n",
    "ax.set_ylabel(\"Distribution of Classes\")\n",
    "ax.set_title(\"Fig 2. Distribution of classes in prices of tickets.\\n\\n\");"
   ]
  },
  {
   "cell_type": "markdown",
   "metadata": {},
   "source": [
    "### Observation\n",
    "\n",
    ">1. Tickets within range 0\\$-50\\$ is bought mainly by Class 3 people. However Class 2 and Class 1 people also bought ticket within that range.\n",
    "2. Tickets within range 50\\$-100\\$ is bought at max by Class 1 people. However Class 3 and Class 2 people also bought ticket within that range.\n",
    "3. All other tickets from 100\\$-512\\$ is bought by the Class 1 people only.\n",
    "\n",
    "***"
   ]
  },
  {
   "cell_type": "markdown",
   "metadata": {},
   "source": [
    "### 3.3.3 Survival Rate of Various Socio-economic Class\n",
    "\n",
    "We may now try to observe how survival rate varied as per socio-economic class. This may give us an insight if there were any <b>preferences</b> of class during evacuation."
   ]
  },
  {
   "cell_type": "code",
   "execution_count": 12,
   "metadata": {},
   "outputs": [
    {
     "data": {
      "image/png": "[encoded data removed]",
      "text/plain": [
       "<matplotlib.figure.Figure at 0x7f02869ddd90>"
      ]
     },
     "metadata": {},
     "output_type": "display_data"
    }
   ],
   "source": [
    "# plotting the survival rate of various socio-economic classes\n",
    "ax = titanic_df.groupby(\"Pclass\")[\"Survived\"].mean().transform(lambda x: x*100).plot(kind = 'bar')\n",
    "ax.set_xlabel(\"Class\")\n",
    "ax.set_ylabel(\"Survival %\")\n",
    "ax.set_title(\"Fig 3. Survival Rate of various Socio-economic classes.\\n\\n\");"
   ]
  },
  {
   "cell_type": "markdown",
   "metadata": {},
   "source": [
    "### Observation\n",
    "\n",
    "We can see survival rate of Class 1 is highest, followed by Class 2 and then Class 3.\n",
    "\n",
    ">So, we may conclude there was <b>some preference</b> given to people from higher socio-economic class. \n",
    "\n",
    "***"
   ]
  },
  {
   "cell_type": "markdown",
   "metadata": {},
   "source": [
    "### 3.3.4 Survival Rate on basis of Fare\n",
    "\n",
    "Now we are again interested to find the same notion - if higher ticket price played any role in survival rate. Let's find out."
   ]
  },
  {
   "cell_type": "code",
   "execution_count": 13,
   "metadata": {},
   "outputs": [
    {
     "data": {
      "image/png": "[encoded data removed]",
      "text/plain": [
       "<matplotlib.figure.Figure at 0x7f0286904d90>"
      ]
     },
     "metadata": {},
     "output_type": "display_data"
    }
   ],
   "source": [
    "# plotting the survival rate based on various price ranges\n",
    "ax = titanic_df.groupby([pd.cut(titanic_df[\"Fare\"], np.arange(0, 551, 50))])[\"Survived\"].mean().transform(lambda x: x*100).plot(kind = 'bar')\n",
    "ax.set_xlabel(\"Ticket Fare\")\n",
    "ax.set_ylabel(\"Survival %\")\n",
    "ax.set_title(\"Fig 4. Survival Rate in various Ticket Fare Range\\n\\n\");"
   ]
  },
  {
   "cell_type": "markdown",
   "metadata": {},
   "source": [
    "### Observation\n",
    "\n",
    "We can see that the least fare range (mainly bought by class 3 people) has the least survival rate. And the last ticket range (mainly bought by class 1 people) has the best survival rate.\n",
    "\n",
    ">We may conclude that there was a <b>preference</b> for class 1 people and people with higher ticket price.\n",
    "\n",
    "***"
   ]
  },
  {
   "cell_type": "markdown",
   "metadata": {},
   "source": [
    "### 3.3.5 Survival rate on the basis of Embarked Port\n",
    "\n",
    "We may be interested on finding if people from a particular port has a higher survival rate."
   ]
  },
  {
   "cell_type": "code",
   "execution_count": 14,
   "metadata": {},
   "outputs": [
    {
     "data": {
      "image/png": "[encoded data removed]",
      "text/plain": [
       "<matplotlib.figure.Figure at 0x7f0282dd5550>"
      ]
     },
     "metadata": {},
     "output_type": "display_data"
    }
   ],
   "source": [
    "# trying to find survival rate on each of the three ports\n",
    "ax = titanic_df.groupby([\"Embarked\"])[\"Survived\"].mean().transform(lambda x: x*100).plot(kind = 'bar')\n",
    "ax.set_xlabel(\"Embarked Ports\")\n",
    "ax.set_ylabel(\"Survival %\")\n",
    "ax.set_title(\"Fig 5. Survival Rate in various Embarked Ports\\n\\n\");"
   ]
  },
  {
   "cell_type": "markdown",
   "metadata": {},
   "source": [
    "### Observation\n",
    "\n",
    ">Quite a success! We have people from Cherbourg with the highest survival rate. This makes us curious to find how <b>embarked port</b> is associated with <b>class</b> and <b>ticket fare</b>.\n",
    "\n",
    "***"
   ]
  },
  {
   "cell_type": "markdown",
   "metadata": {},
   "source": [
    "### 3.3.6 How Embarked Port is related to Class and Ticket Fare?\n",
    "\n",
    "Like we have just discussed, we got a high survival rate for Class 1 people as well as for people with high priced tickets. Again as our analysis says, there's a particular port on which survival rate is high. So, is there's a co-relation? Let's find it out."
   ]
  },
  {
   "cell_type": "code",
   "execution_count": 15,
   "metadata": {},
   "outputs": [
    {
     "data": {
      "image/png": "[encoded data removed]",
      "text/plain": [
       "<matplotlib.figure.Figure at 0x7f0282d22350>"
      ]
     },
     "metadata": {},
     "output_type": "display_data"
    }
   ],
   "source": [
    "# finding how people from various classes embarked the ship on the 3 ports\n",
    "ax = titanic_df.groupby([\"Embarked\",\"Pclass\"])[\"Survived\"].count().groupby(level = 0).transform(lambda x: 100*x/x.sum()).unstack().plot(kind = 'bar')\n",
    "ax.set_xlabel(\"Embarked Port\")\n",
    "ax.set_ylabel(\"Population %\")\n",
    "ax.set_title(\"Fig 6. Population Distribution for different Class in different Embarked Ports\\n\\n\");"
   ]
  },
  {
   "cell_type": "code",
   "execution_count": 16,
   "metadata": {},
   "outputs": [
    {
     "data": {
      "image/png": "[encoded data removed]",
      "text/plain": [
       "<matplotlib.figure.Figure at 0x7f0282d3cb10>"
      ]
     },
     "metadata": {},
     "output_type": "display_data"
    }
   ],
   "source": [
    "# finding the percentage of low, mid and high priced tickets in the embarked ports\n",
    "ax = titanic_df.groupby([\"Embarked\", pd.cut(titanic_df[\"Fare\"], [0, 50, 100, 550])])[\"Survived\"].count().groupby(level = 0).transform(lambda x: 100*x/x.sum()).unstack().plot(kind = 'bar')\n",
    "ax.set_xlabel(\"Embarked Port\")\n",
    "ax.set_ylabel(\"Fare %\")\n",
    "ax.set_title(\"Fig 7. Fare Distribution for different Class in different Embarked Ports\\n\\n\");"
   ]
  },
  {
   "cell_type": "markdown",
   "metadata": {},
   "source": [
    "### Observation\n",
    "\n",
    "So, we are correct! \n",
    "\n",
    ">The distribution of Class in Cherbourg had maximum of class 1 people and also had the highest survival rate.\n",
    "\n",
    "\n",
    ">The Fare Distribution also shows that people from Cherbourg did buy most costly tickets which can also be the cause of the high survival rate.\n",
    "\n",
    "***"
   ]
  },
  {
   "cell_type": "markdown",
   "metadata": {},
   "source": [
    "### 3.3.7 How survival rate of people varied with family?\n",
    "\n",
    "We are now interested to find how the survival rate of people varied with those who have either of sibling, spouse, parent or child and those who have not. One thing to remember, we already have a column group that takes into account the size of the family of a particular passenger. "
   ]
  },
  {
   "cell_type": "code",
   "execution_count": 17,
   "metadata": {},
   "outputs": [
    {
     "data": {
      "image/png": "[encoded data removed]",
      "text/plain": [
       "<matplotlib.figure.Figure at 0x7f0282b0fd10>"
      ]
     },
     "metadata": {},
     "output_type": "display_data"
    }
   ],
   "source": [
    "# plotting the distribution of passengers against family and without family\n",
    "ax = titanic_df.groupby(pd.cut(titanic_df[\"Group\"], [-1,0,11]))[\"Survived\"].mean()*100\n",
    "ax.index = [\"without family\", \"with family\"]\n",
    "ax = ax.plot(kind = 'bar')\n",
    "ax.set_xlabel(\"Family\")\n",
    "ax.set_ylabel(\"Survival %\")\n",
    "ax.set_title(\"Fig 8. Distribution of Survival for passeneger with and without family\\n\\n\");"
   ]
  },
  {
   "cell_type": "markdown",
   "metadata": {},
   "source": [
    "### Observation\n",
    "\n",
    ">Strange! We expected people without family to be evacuated easily without hassles of finding other lost family members. But things seems different. Most probably people without family gave way to those with a family.\n",
    "\n",
    "***"
   ]
  },
  {
   "cell_type": "markdown",
   "metadata": {},
   "source": [
    "### 3.3.8 How men and women were distributed in the population?\n",
    "\n",
    "A long waited analysis - what were the number of men and women?"
   ]
  },
  {
   "cell_type": "code",
   "execution_count": 18,
   "metadata": {},
   "outputs": [
    {
     "data": {
      "image/png": "[encoded data removed]",
      "text/plain": [
       "<matplotlib.figure.Figure at 0x7f0282c05790>"
      ]
     },
     "metadata": {},
     "output_type": "display_data"
    }
   ],
   "source": [
    "# plotting the distribution of sex amongst the passengers\n",
    "div_sex = titanic_df.groupby('Sex')[\"Survived\"].count().plot.pie(title='Fig 9. Men vs Women\\n\\n', labels=[\"male\", \"female\"], autopct='%1.1f%%', figsize=(6,6))"
   ]
  },
  {
   "cell_type": "markdown",
   "metadata": {},
   "source": [
    "### Observation\n",
    "\n",
    ">We can see that we have more male passengers on board than females (almost double)."
   ]
  },
  {
   "cell_type": "markdown",
   "metadata": {},
   "source": [
    "***\n",
    "<br>\n",
    "### 3.3.9 Survival Rate of Male and Female\n",
    "\n",
    "Once we have seen the distribution of male and female, we may also want to see the survival distribution of male and female."
   ]
  },
  {
   "cell_type": "code",
   "execution_count": 19,
   "metadata": {},
   "outputs": [
    {
     "data": {
      "text/plain": [
       "<matplotlib.text.Text at 0x7f0282998110>"
      ]
     },
     "execution_count": 19,
     "metadata": {},
     "output_type": "execute_result"
    },
    {
     "data": {
      "image/png": "[encoded data removed]",
      "text/plain": [
       "<matplotlib.figure.Figure at 0x7f0282feae90>"
      ]
     },
     "metadata": {},
     "output_type": "display_data"
    }
   ],
   "source": [
    "# plotting the survival of the sexes\n",
    "div_sex = titanic_df[titanic_df[\"Survived\"] == 1].groupby(\"Sex\")[\"Survived\"].count()\n",
    "ax = div_sex.plot.bar(title='Fig 10. Survival of Men & Women\\n\\n')\n",
    "ax.set_ylabel(\"Total Population\")"
   ]
  },
  {
   "cell_type": "markdown",
   "metadata": {},
   "source": [
    "### Observation\n",
    "\n",
    ">We can see a clear trend! We can make a mere conclusion that women were rescued first.\n",
    "\n",
    "Taking this conclusion, let us investigate more to see other factors such as age in survival rate of the females.\n",
    "\n",
    "***"
   ]
  },
  {
   "cell_type": "markdown",
   "metadata": {},
   "source": [
    "### 3.3.10  How age played a role in survival ?\n",
    "\n",
    "We all know that the rescue protocol is - \"Save women and children first\". We already a trend showing women were rescued first given their high survival rate. Let's see how age played a role in male, female and as a whole."
   ]
  },
  {
   "cell_type": "code",
   "execution_count": 20,
   "metadata": {},
   "outputs": [
    {
     "data": {
      "image/png": "[encoded data removed]",
      "text/plain": [
       "<matplotlib.figure.Figure at 0x7f02829a4890>"
      ]
     },
     "metadata": {},
     "output_type": "display_data"
    }
   ],
   "source": [
    "# let us assume the age groups as:\n",
    "# the groups based on age\n",
    "# infants (0-1)\n",
    "# children (2-12)\n",
    "# teen (13-18)\n",
    "# youth (19-35)\n",
    "# midage (36-50)\n",
    "# mature adults (51-60)\n",
    "# old (60+)\n",
    "# now finding survival rate of male and female in the given age groups\n",
    "ax = titanic_df.groupby([pd.cut(titanic_df[\"Age\"], [0, 1, 12, 18, 35, 50, 60, 100]), \"Sex\"])[\"Survived\"].mean().unstack()\n",
    "ax.index=[\"infants\", \"children\", \"teen\", \"youth\", \"midage\", \"mature adults\", \"old\"]\n",
    "ax = ax.plot(kind='bar')\n",
    "ax.set_xlabel(\"Age Group\")\n",
    "ax.set_ylabel(\"Survival %\")\n",
    "ax.set_title(\"Fig 11. Survival of male and female of different age groups\\n\\n\");"
   ]
  },
  {
   "cell_type": "markdown",
   "metadata": {},
   "source": [
    "### Observation\n",
    "\n",
    "So, we can conclude the following points as from this.\n",
    "\n",
    ">1. Infant females have a survival rate of 100% as well as male infants have 80%. (\"Babies First\" was followed well).\n",
    "2. Survival rate of female children is very less compared to other female age groups. (possibly they were unable to adapt to the extreme conditions). However male children have a very high survival rate. So, we can again conclude - <b>\"children of both sex were given preference\"</b>.\n",
    "3. Survival of teenagers, youths and mid-aged people are more or less same for both sexes.\n",
    "4. Finally mature adults and old aged people shows an impressive survival rate in females. So, these age grouped people also are given preference in females. However old males died highly due to the extreme weather.\n",
    "5. In all age groups, <b>male</b> survival rate is low. This shows a high possibility of the preference of women in all scenarios.\n",
    "\n",
    "***"
   ]
  },
  {
   "cell_type": "markdown",
   "metadata": {},
   "source": [
    "### 3.3.11 We may want to see what is the distribution of class, survival and survival rate of various classes in different  age groups.\n",
    "\n",
    "Now as we have seen the survival rate of various age groups, we may try to extend our previous conclusions by seeing more closely how the classes are spread in various age groups."
   ]
  },
  {
   "cell_type": "code",
   "execution_count": 21,
   "metadata": {},
   "outputs": [
    {
     "data": {
      "image/png": "[encoded data removed]",
      "text/plain": [
       "<matplotlib.figure.Figure at 0x7f02827eddd0>"
      ]
     },
     "metadata": {},
     "output_type": "display_data"
    }
   ],
   "source": [
    "# plotting how class varied in different age groups\n",
    "x = titanic_df.groupby([pd.cut(titanic_df[\"Age\"], [0, 1, 12, 18, 35, 50, 60, 100]), \"Pclass\"])[\"Survived\"].count().unstack()\n",
    "x.index=[\"infants\", \"children\", \"teen\", \"youth\", \"midage\", \"mature adults\", \"old\"]\n",
    "ax = x.plot(kind='bar')\n",
    "ax.set_ylabel(\"Distribution of classes\")\n",
    "ax.set_xlabel(\"Age Groups\")\n",
    "ax.set_title(\"Fig 12. Distribution of classes in various age groups\\n\\n\");"
   ]
  },
  {
   "cell_type": "code",
   "execution_count": 22,
   "metadata": {},
   "outputs": [
    {
     "data": {
      "image/png": "[encoded data removed]",
      "text/plain": [
       "<matplotlib.figure.Figure at 0x7f0282a21dd0>"
      ]
     },
     "metadata": {},
     "output_type": "display_data"
    }
   ],
   "source": [
    "# plotting how survival varied in different age groups\n",
    "x = titanic_df.groupby([pd.cut(titanic_df[\"Age\"], [0, 1, 12, 18, 35, 50, 60, 100])])[\"Survived\"].mean().transform(lambda x: x*100)\n",
    "x.index=[\"infants\", \"children\", \"teen\", \"youth\", \"midage\", \"mature adults\", \"old\"]\n",
    "ax = x.plot(kind='bar')\n",
    "ax.set_ylabel(\"Survival %\")\n",
    "ax.set_xlabel(\"Age Groups\")\n",
    "ax.set_title(\"Fig 13. Distribution of survival in various age groups\\n\\n\");"
   ]
  },
  {
   "cell_type": "code",
   "execution_count": 23,
   "metadata": {},
   "outputs": [
    {
     "data": {
      "image/png": "[encoded data removed]",
      "text/plain": [
       "<matplotlib.figure.Figure at 0x7f0282a65090>"
      ]
     },
     "metadata": {},
     "output_type": "display_data"
    }
   ],
   "source": [
    "# plotting the survival stats of each class in different age groups\n",
    "x = titanic_df.groupby([pd.cut(titanic_df[\"Age\"], [0, 1, 12, 18, 35, 50, 60, 100]), \"Pclass\"])[\"Survived\"].mean().unstack().transform(lambda x: x*100)\n",
    "x.index=[\"infants\", \"children\", \"teen\", \"youth\", \"midage\", \"mature adults\", \"old\"]\n",
    "ax = x.plot(kind='bar')\n",
    "ax.set_ylabel(\"% of survival per class\")\n",
    "ax.set_xlabel(\"Age Groups\")\n",
    "ax.set_title(\"Fig 14. Rate of survival of various ages\\n\\n\");"
   ]
  },
  {
   "cell_type": "markdown",
   "metadata": {
    "collapsed": true
   },
   "source": [
    "### Observation\n",
    "\n",
    "We can say that mostly mature adults and old people are from higher socio-economic status following the first graph.\n",
    "\n",
    ">And again based on various age groups we can clearly see the class 3 people least survived (even this is true for infants - sadly)\n",
    "***"
   ]
  },
  {
   "cell_type": "markdown",
   "metadata": {},
   "source": [
    "## 4. Conclusion\n",
    "\n",
    "However we can surely make some co-relations and they are finally summarized below:\n",
    "\n",
    ">1. Class 3 people were mostly affected through out (fig 3).\n",
    "2. Passengers with lowest priced ticket survived least while those with highest priced tickets survived like anything else (fig 4).\n",
    "3. People from Cherbourg did buy most costly tickets, mostly had people from class 1 and thus had the most survival rate (fig 5, 6, 7).\n",
    "4. Men has a lower survival in all age groups (fig 10, 11).\n",
    "3. Women and infants were saved first (fig 10, 11).\n",
    "4. Old aged female were also given preference (fig 10, 11).\n",
    "6. We can also see that survival rate of class 3 people were least in all age groups except infants and old (fig 13).\n",
    "\n",
    "We can use the Pearson's r to see how accurate are these co-relations."
   ]
  },
  {
   "cell_type": "code",
   "execution_count": 24,
   "metadata": {
    "scrolled": false
   },
   "outputs": [
    {
     "data": {
      "text/html": [
       "<div>\n",
       "<style>\n",
       "    .dataframe thead tr:only-child th {\n",
       "        text-align: right;\n",
       "    }\n",
       "\n",
       "    .dataframe thead th {\n",
       "        text-align: left;\n",
       "    }\n",
       "\n",
       "    .dataframe tbody tr th {\n",
       "        vertical-align: top;\n",
       "    }\n",
       "</style>\n",
       "<table border=\"1\" class=\"dataframe\">\n",
       "  <thead>\n",
       "    <tr style=\"text-align: right;\">\n",
       "      <th></th>\n",
       "      <th>Survived</th>\n",
       "      <th>Pclass</th>\n",
       "      <th>Age</th>\n",
       "      <th>SibSp</th>\n",
       "      <th>Parch</th>\n",
       "      <th>Fare</th>\n",
       "      <th>Group</th>\n",
       "      <th>Sex_num</th>\n",
       "      <th>infant</th>\n",
       "      <th>old_age</th>\n",
       "    </tr>\n",
       "  </thead>\n",
       "  <tbody>\n",
       "    <tr>\n",
       "      <th>Survived</th>\n",
       "      <td>1.000000</td>\n",
       "      <td>-0.338481</td>\n",
       "      <td>-0.077221</td>\n",
       "      <td>-0.035322</td>\n",
       "      <td>0.081629</td>\n",
       "      <td>0.257307</td>\n",
       "      <td>0.016639</td>\n",
       "      <td>0.543351</td>\n",
       "      <td>0.122966</td>\n",
       "      <td>-0.040857</td>\n",
       "    </tr>\n",
       "    <tr>\n",
       "      <th>Pclass</th>\n",
       "      <td>-0.338481</td>\n",
       "      <td>1.000000</td>\n",
       "      <td>-0.369226</td>\n",
       "      <td>0.083081</td>\n",
       "      <td>0.018443</td>\n",
       "      <td>-0.549500</td>\n",
       "      <td>0.065997</td>\n",
       "      <td>-0.131900</td>\n",
       "      <td>0.028934</td>\n",
       "      <td>-0.159798</td>\n",
       "    </tr>\n",
       "    <tr>\n",
       "      <th>Age</th>\n",
       "      <td>-0.077221</td>\n",
       "      <td>-0.369226</td>\n",
       "      <td>1.000000</td>\n",
       "      <td>-0.308247</td>\n",
       "      <td>-0.189119</td>\n",
       "      <td>0.096067</td>\n",
       "      <td>-0.301914</td>\n",
       "      <td>-0.093254</td>\n",
       "      <td>-0.280867</td>\n",
       "      <td>0.474027</td>\n",
       "    </tr>\n",
       "    <tr>\n",
       "      <th>SibSp</th>\n",
       "      <td>-0.035322</td>\n",
       "      <td>0.083081</td>\n",
       "      <td>-0.308247</td>\n",
       "      <td>1.000000</td>\n",
       "      <td>0.414838</td>\n",
       "      <td>0.159651</td>\n",
       "      <td>0.890712</td>\n",
       "      <td>0.114631</td>\n",
       "      <td>0.103813</td>\n",
       "      <td>-0.045971</td>\n",
       "    </tr>\n",
       "    <tr>\n",
       "      <th>Parch</th>\n",
       "      <td>0.081629</td>\n",
       "      <td>0.018443</td>\n",
       "      <td>-0.189119</td>\n",
       "      <td>0.414838</td>\n",
       "      <td>1.000000</td>\n",
       "      <td>0.216225</td>\n",
       "      <td>0.783111</td>\n",
       "      <td>0.245489</td>\n",
       "      <td>0.164202</td>\n",
       "      <td>-0.015904</td>\n",
       "    </tr>\n",
       "    <tr>\n",
       "      <th>Fare</th>\n",
       "      <td>0.257307</td>\n",
       "      <td>-0.549500</td>\n",
       "      <td>0.096067</td>\n",
       "      <td>0.159651</td>\n",
       "      <td>0.216225</td>\n",
       "      <td>1.000000</td>\n",
       "      <td>0.217138</td>\n",
       "      <td>0.182333</td>\n",
       "      <td>0.003637</td>\n",
       "      <td>0.039319</td>\n",
       "    </tr>\n",
       "    <tr>\n",
       "      <th>Group</th>\n",
       "      <td>0.016639</td>\n",
       "      <td>0.065997</td>\n",
       "      <td>-0.301914</td>\n",
       "      <td>0.890712</td>\n",
       "      <td>0.783111</td>\n",
       "      <td>0.217138</td>\n",
       "      <td>1.000000</td>\n",
       "      <td>0.200988</td>\n",
       "      <td>0.152986</td>\n",
       "      <td>-0.039365</td>\n",
       "    </tr>\n",
       "    <tr>\n",
       "      <th>Sex_num</th>\n",
       "      <td>0.543351</td>\n",
       "      <td>-0.131900</td>\n",
       "      <td>-0.093254</td>\n",
       "      <td>0.114631</td>\n",
       "      <td>0.245489</td>\n",
       "      <td>0.182333</td>\n",
       "      <td>0.200988</td>\n",
       "      <td>1.000000</td>\n",
       "      <td>-0.017640</td>\n",
       "      <td>-0.072063</td>\n",
       "    </tr>\n",
       "    <tr>\n",
       "      <th>infant</th>\n",
       "      <td>0.122966</td>\n",
       "      <td>0.028934</td>\n",
       "      <td>-0.280867</td>\n",
       "      <td>0.103813</td>\n",
       "      <td>0.164202</td>\n",
       "      <td>0.003637</td>\n",
       "      <td>0.152986</td>\n",
       "      <td>-0.017640</td>\n",
       "      <td>1.000000</td>\n",
       "      <td>-0.021905</td>\n",
       "    </tr>\n",
       "    <tr>\n",
       "      <th>old_age</th>\n",
       "      <td>-0.040857</td>\n",
       "      <td>-0.159798</td>\n",
       "      <td>0.474027</td>\n",
       "      <td>-0.045971</td>\n",
       "      <td>-0.015904</td>\n",
       "      <td>0.039319</td>\n",
       "      <td>-0.039365</td>\n",
       "      <td>-0.072063</td>\n",
       "      <td>-0.021905</td>\n",
       "      <td>1.000000</td>\n",
       "    </tr>\n",
       "  </tbody>\n",
       "</table>\n",
       "</div>"
      ],
      "text/plain": [
       "          Survived    Pclass       Age     SibSp     Parch      Fare  \\\n",
       "Survived  1.000000 -0.338481 -0.077221 -0.035322  0.081629  0.257307   \n",
       "Pclass   -0.338481  1.000000 -0.369226  0.083081  0.018443 -0.549500   \n",
       "Age      -0.077221 -0.369226  1.000000 -0.308247 -0.189119  0.096067   \n",
       "SibSp    -0.035322  0.083081 -0.308247  1.000000  0.414838  0.159651   \n",
       "Parch     0.081629  0.018443 -0.189119  0.414838  1.000000  0.216225   \n",
       "Fare      0.257307 -0.549500  0.096067  0.159651  0.216225  1.000000   \n",
       "Group     0.016639  0.065997 -0.301914  0.890712  0.783111  0.217138   \n",
       "Sex_num   0.543351 -0.131900 -0.093254  0.114631  0.245489  0.182333   \n",
       "infant    0.122966  0.028934 -0.280867  0.103813  0.164202  0.003637   \n",
       "old_age  -0.040857 -0.159798  0.474027 -0.045971 -0.015904  0.039319   \n",
       "\n",
       "             Group   Sex_num    infant   old_age  \n",
       "Survived  0.016639  0.543351  0.122966 -0.040857  \n",
       "Pclass    0.065997 -0.131900  0.028934 -0.159798  \n",
       "Age      -0.301914 -0.093254 -0.280867  0.474027  \n",
       "SibSp     0.890712  0.114631  0.103813 -0.045971  \n",
       "Parch     0.783111  0.245489  0.164202 -0.015904  \n",
       "Fare      0.217138  0.182333  0.003637  0.039319  \n",
       "Group     1.000000  0.200988  0.152986 -0.039365  \n",
       "Sex_num   0.200988  1.000000 -0.017640 -0.072063  \n",
       "infant    0.152986 -0.017640  1.000000 -0.021905  \n",
       "old_age  -0.039365 -0.072063 -0.021905  1.000000  "
      ]
     },
     "execution_count": 24,
     "metadata": {},
     "output_type": "execute_result"
    }
   ],
   "source": [
    "# copying to perform the Pearson's R in a seperate Dataframe\n",
    "titanic_df_corr = titanic_df.copy()\n",
    "# adding numeric columns for sex and infant and old_age\n",
    "titanic_df_corr['Sex_num'] = np.where(titanic_df_corr['Sex'] == 'female', 1, 0)\n",
    "titanic_df_corr['infant'] = np.where(titanic_df_corr['Age'] < 2, 1, 0)\n",
    "titanic_df_corr['old_age'] = np.where(titanic_df_corr['Age'] >= 60, 1, 0)\n",
    "# finding the R\n",
    "titanic_df_corr.corr()"
   ]
  },
  {
   "cell_type": "markdown",
   "metadata": {},
   "source": [
    "There are some shortcomings in this analysis. Some are \n",
    "* <b>Missing data</b> present here is a serious issue. Although <b>Pandas automatically eliminate</b> cases with missing data, in the end, we may <b>not have enough data</b> to perform the analysis (ex: \"cabin\"). If we run a  factor analysis on just a few cases, the analysis might run but the results <b>may not be statistically significant</b> because of the small amount of input data (the sample being so small).\n",
    "* I <b>did not impute age</b>. As a result, the precision of confidence intervals maybe harmed, statistical power maybe weakened and the parameter estimates maybe biased.So, there might be some improvement of the results. One way we could have used to impute other than mode-median-mean is we can find the median of age of people of a particular class and gender."
   ]
  },
  {
   "cell_type": "code",
   "execution_count": 25,
   "metadata": {
    "scrolled": true
   },
   "outputs": [
    {
     "name": "stdout",
     "output_type": "stream",
     "text": [
      "Number of NULL entries in age is : 0\n"
     ]
    },
    {
     "data": {
      "text/plain": [
       "count    891.000000\n",
       "mean      29.112424\n",
       "std       13.304424\n",
       "min        0.420000\n",
       "25%       21.500000\n",
       "50%       26.000000\n",
       "75%       36.000000\n",
       "max       80.000000\n",
       "Name: Age, dtype: float64"
      ]
     },
     "execution_count": 25,
     "metadata": {},
     "output_type": "execute_result"
    }
   ],
   "source": [
    "# copying to perform the imputation in a seperate Dataframe\n",
    "titanic_im1 = titanic_df.copy()\n",
    "# creating the class-sex-age master imputation table\n",
    "base = titanic_df.groupby([\"Pclass\", \"Sex\"])[\"Age\"].median().unstack()\n",
    "# function to replace NAN ages with suitable values from class-sex-age master imputation table\n",
    "def impute_age(x):\n",
    "    if np.isnan(x[\"Age\"]):\n",
    "        if (x[\"Sex\"] == \"female\") & (x[\"Pclass\"] == 1):\n",
    "            x[\"Age\"] = base.iloc[:1, :1].values[0][0]\n",
    "        if (x[\"Sex\"] == \"female\") & (x[\"Pclass\"] == 2):\n",
    "            x[\"Age\"] = base.iloc[1:2, :1].values[0][0]\n",
    "        if (x[\"Sex\"] == \"female\") & (x[\"Pclass\"] == 3):\n",
    "            x[\"Age\"] = base.iloc[2:3, :1].values[0][0]\n",
    "        if (x[\"Sex\"] == \"male\") & (x[\"Pclass\"] == 1):\n",
    "            x[\"Age\"] = base.iloc[:1, 1:2].values[0][0]\n",
    "        if (x[\"Sex\"] == \"male\") & (x[\"Pclass\"] == 2):\n",
    "            x[\"Age\"] = base.iloc[1:2, 1:2].values[0][0]\n",
    "        if (x[\"Sex\"] == \"male\") & (x[\"Pclass\"] == 3):\n",
    "            x[\"Age\"] = base.iloc[2:3, 1:2].values[0][0]\n",
    "    return x\n",
    "# operating each row of the faulty dataset for imptuing age\n",
    "titanic_im1 = titanic_im1.apply(impute_age, axis=1)\n",
    "# displaying the outcome\n",
    "print \"Number of NULL entries in age is : \" + str(titanic_im1[\"Age\"][titanic_im1[\"Age\"].isnull()].size)\n",
    "titanic_im1[\"Age\"].describe()"
   ]
  },
  {
   "cell_type": "markdown",
   "metadata": {},
   "source": [
    "As we can see from the output, age is successfully imputed.\n",
    "However we have not done the analysis using this imputation. The reason is, we yet do not know the metric to calculate how accurate and robust this model will be. \n",
    "\n",
    "* Apart from the case of imputation, we have not explored some other areas like \"building family\" using people who share same tickets, their surnames and SibSp and Parch relations.\n",
    "* Also we have not used any statistical tests except Pearson's R to support our co-relations.\n",
    "* Some statistical tests can be carried out in future like Chi-Square Test for Independence, Spearman, Kendall etc. But we keep them as future scope."
   ]
  },
  {
   "cell_type": "markdown",
   "metadata": {},
   "source": [
    "Thank you for reading!"
   ]
  },
  {
   "cell_type": "markdown",
   "metadata": {},
   "source": [
    "## 5. References\n",
    "\n",
    "1. www.stackoverflow.com\n",
    "2. www.datacamp.com\n",
    "3. www.kaggle.com/c/titanic"
   ]
  }
 ],
 "metadata": {
  "kernelspec": {
   "display_name": "Python [default]",
   "language": "python",
   "name": "python2"
  },
  "language_info": {
   "codemirror_mode": {
    "name": "ipython",
    "version": 2
   },
   "file_extension": ".py",
   "mimetype": "text/x-python",
   "name": "python",
   "nbconvert_exporter": "python",
   "pygments_lexer": "ipython2",
   "version": "2.7.13"
  }
 },
 "nbformat": 4,
 "nbformat_minor": 1
}
